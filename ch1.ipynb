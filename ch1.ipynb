{
  "nbformat": 4,
  "nbformat_minor": 0,
  "metadata": {
    "colab": {
      "name": "ch1.ipynb",
      "version": "0.3.2",
      "provenance": [],
      "collapsed_sections": [],
      "include_colab_link": true
    },
    "kernelspec": {
      "name": "python3",
      "display_name": "Python 3"
    }
  },
  "cells": [
    {
      "cell_type": "markdown",
      "metadata": {
        "id": "view-in-github",
        "colab_type": "text"
      },
      "source": [
        "<a href=\"https://colab.research.google.com/github/damianChoi/PSAD/blob/master/ch1.ipynb\" target=\"_parent\"><img src=\"https://colab.research.google.com/assets/colab-badge.svg\" alt=\"Open In Colab\"/></a>"
      ]
    },
    {
      "metadata": {
        "id": "iUyNNgyizaRF",
        "colab_type": "text"
      },
      "cell_type": "markdown",
      "source": [
        "# 1. Introduction"
      ]
    },
    {
      "metadata": {
        "id": "wWTnyuWPzpAZ",
        "colab_type": "text"
      },
      "cell_type": "markdown",
      "source": [
        "## 1.1 Objectives\n",
        "\n",
        "* To review the ideas of computer science, programming, and problem-solving.\n",
        "* To understand abstraction and the role it plays in the problem-solving process.\n",
        "* To understand and implement the notion of an abstract data type.\n",
        "* To review the Python programming language."
      ]
    },
    {
      "metadata": {
        "id": "J_JCwKfLzxvX",
        "colab_type": "text"
      },
      "cell_type": "markdown",
      "source": [
        "## 1.2 Getting Started\n",
        "\n",
        "The science of computing is concerned with using computers to solve problems. This chapter emphasizes two important areas for the rest of the text. First, it reviews the framework within which computer science and the study of algorithms and data structures must fit, in particular, the reasons why we need to study these topics and how understanding these topics helps us to become better problem solvers. Second, we review the Python programming language."
      ]
    },
    {
      "metadata": {
        "id": "19a6y2jw02ih",
        "colab_type": "text"
      },
      "cell_type": "markdown",
      "source": [
        "## 1.3 What is Computer Science?\n",
        "\n",
        "Computer science is the study of problems, problem-solving, and the solutions that come out of the problem-solving process. "
      ]
    },
    {
      "metadata": {
        "id": "ZzwzvTsU1cz7",
        "colab_type": "text"
      },
      "cell_type": "markdown",
      "source": [
        "We can fully define computer science, then, by including both types of problems and stating that computer science is the study of solutions to problems as well as the study of problems with no solutions."
      ]
    },
    {
      "metadata": {
        "id": "cGA7Ejsx1iK4",
        "colab_type": "text"
      },
      "cell_type": "markdown",
      "source": [
        "It is also very common to include the word computable when describing problems and solutions. We say that a problem is computable if an algorithm exists for solving it. An alternative definition for computer science, then, is to say that computer science is the study of problems that are and that are not computable, the study of the existence and the nonexistence of algorithms."
      ]
    },
    {
      "metadata": {
        "id": "mtuXHPX-1szw",
        "colab_type": "text"
      },
      "cell_type": "markdown",
      "source": [
        "* Abstraction\n",
        "\n",
        "* Physical View / Logical View\n",
        "\n",
        "* Interface\n",
        "\n",
        "* Client\n",
        "\n",
        "* Procedural Abstraction / Data Abstraction"
      ]
    },
    {
      "metadata": {
        "id": "xnidHkSn3SKs",
        "colab_type": "text"
      },
      "cell_type": "markdown",
      "source": [
        "## 1.4 What is Programming?"
      ]
    },
    {
      "metadata": {
        "id": "dg7ojpS54grl",
        "colab_type": "text"
      },
      "cell_type": "markdown",
      "source": [
        "**Subchapter 1.4 provides easy-to-read and insightful explanation for Programming, Data Structure, and Algorithm at least for me. There's nothing to dump, no waste.**\n",
        "\n"
      ]
    },
    {
      "metadata": {
        "id": "HqZKKr9S5T9Q",
        "colab_type": "text"
      },
      "cell_type": "markdown",
      "source": [
        "## 1.5 Why We Study Data Structures and Abstract Data Types?"
      ]
    },
    {
      "metadata": {
        "id": "BqaTE_MZ5oX7",
        "colab_type": "text"
      },
      "cell_type": "markdown",
      "source": [
        "To manage the complexity of problems and the problem-solving process, computer scientists use abstractions to allow them to focus on the “big picture” without getting lost in the details. By creating models of the problem domain, we are able to utilize a better and more efficient problem-solving process. These models allow us to describe the data that our algorithms will manipulate in a much more consistent way with respect to the problem itself.\n",
        "An abstract data type, sometimes abbreviated ADT, is a logical description of how we view the data and the operations that are allowed without regard to how they will be implemented. This means that we are concerned only with what the data is representing and not with how it will eventually be constructed. "
      ]
    },
    {
      "metadata": {
        "id": "Vs3_rD3j7zdZ",
        "colab_type": "text"
      },
      "cell_type": "markdown",
      "source": [
        "* data Abstraction\n",
        "\n",
        "* encapsulation\n",
        "\n",
        "* information hiding\n",
        "\n",
        "* data structure\n",
        "\n",
        "* implementation independent view"
      ]
    },
    {
      "metadata": {
        "id": "Rx_PiJEA8E3Z",
        "colab_type": "text"
      },
      "cell_type": "markdown",
      "source": [
        "## 1.6 Why We Study Algorithms?\n"
      ]
    },
    {
      "metadata": {
        "id": "LengbMZn8ZTH",
        "colab_type": "text"
      },
      "cell_type": "markdown",
      "source": [
        "By considering a number of different algorithms, we can begin to develop pattern recognition so that the next time a similar problem arises, we are better able to solve it."
      ]
    },
    {
      "metadata": {
        "id": "K3HnhANB8aio",
        "colab_type": "text"
      },
      "cell_type": "markdown",
      "source": [
        " we can learn analysis techniques that allow us to compare and contrast solutions based solely on their own characteristics, not the characteristics of the program or computer used to implement them."
      ]
    },
    {
      "metadata": {
        "id": "PLlxP7B18ljV",
        "colab_type": "text"
      },
      "cell_type": "markdown",
      "source": [
        "There will often be trade-offs that we will need to identify and decide upon. As computer scientists, in addition to our ability to solve problems, we will also need to know and understand solution evaluation techniques. In the end, there are often many ways to solve a problem. Finding a solution and then deciding whether it is a good one are tasks that we will do over and over again."
      ]
    },
    {
      "metadata": {
        "id": "P9KxRhDN85yt",
        "colab_type": "text"
      },
      "cell_type": "markdown",
      "source": [
        "## 1.7 Review of Basic Python"
      ]
    },
    {
      "metadata": {
        "id": "fKwmh_rr9Kex",
        "colab_type": "code",
        "colab": {
          "base_uri": "https://localhost:8080/",
          "height": 34
        },
        "outputId": "4db26a26-39f1-42b6-d1cc-cb3cff95528e"
      },
      "cell_type": "code",
      "source": [
        "print(\"Algorithms and Data Structures\")"
      ],
      "execution_count": 1,
      "outputs": [
        {
          "output_type": "stream",
          "text": [
            "Algorithms and Data Structures\n"
          ],
          "name": "stdout"
        }
      ]
    },
    {
      "metadata": {
        "id": "-CHr9ZkN9NBJ",
        "colab_type": "text"
      },
      "cell_type": "markdown",
      "source": [
        "## 1.8 Getting Started With Data"
      ]
    },
    {
      "metadata": {
        "id": "wAxkvM-S9kkG",
        "colab_type": "text"
      },
      "cell_type": "markdown",
      "source": [
        "We stated above that Python supports the object-oriented programming paradigm. This means that Python considers data to be the focal point of the problem-solving process. In Python, as well as in any other object-oriented programming language, we define a class to be a description of what the data look like (the state) and what the data can do (the behavior). Classes are analogous to abstract data types because a user of a class only sees the state and behavior of a data item. Data items are called objects in the object-oriented paradigm. An object is an instance of a class.\n",
        "\n",
        "* object\n",
        "\n",
        "* class\n",
        "\n",
        "* object-oriented programming language"
      ]
    },
    {
      "metadata": {
        "id": "8ZbZlWsM9vvD",
        "colab_type": "text"
      },
      "cell_type": "markdown",
      "source": [
        "### 1.8.1 Built-in Atomic Data Types"
      ]
    },
    {
      "metadata": {
        "id": "zuHc6gKmBui5",
        "colab_type": "text"
      },
      "cell_type": "markdown",
      "source": [
        "* two numeric classes: <kbd>int</kbd> and <kbd>float</kbd>\n",
        "\n",
        "* the return of true division for integers is float: interaction between classes"
      ]
    },
    {
      "metadata": {
        "id": "b6gLEb1OB7s0",
        "colab_type": "text"
      },
      "cell_type": "markdown",
      "source": [
        "\n",
        "\n",
        "```python\n",
        "print(2+3*4)\n",
        "print((2+3)*4)\n",
        "print(2**10)\n",
        "print(6/3)\n",
        "print(7/3)\n",
        "print(7//3)\n",
        "print(7%3)\n",
        "print(3/6)\n",
        "print(3//6)\n",
        "print(3%6)\n",
        "print(2**100)\n",
        "\n",
        "```\n",
        "\n"
      ]
    },
    {
      "metadata": {
        "id": "jvvhAtD7CBiw",
        "colab_type": "code",
        "colab": {
          "base_uri": "https://localhost:8080/",
          "height": 238
        },
        "outputId": "3ce34339-a6b2-4dfa-e643-28759c4711bc"
      },
      "cell_type": "code",
      "source": [
        "print(2+3*4)\n",
        "print((2+3)*4)\n",
        "print(2**10)\n",
        "print(6/3)\n",
        "print(7/3)\n",
        "print(7//3)\n",
        "print(7%3)\n",
        "print(3/6)\n",
        "print(3//6)\n",
        "print(3%6)\n",
        "print(2**100)\n",
        "# '//' operator in int class represents rounding-off\n",
        "print(-7//3)\n",
        "# '%' matches to '//': -7 = (-7//3) * 3 + (-7%3)\n",
        "print(-7%3)"
      ],
      "execution_count": 2,
      "outputs": [
        {
          "output_type": "stream",
          "text": [
            "14\n",
            "20\n",
            "1024\n",
            "2.0\n",
            "2.3333333333333335\n",
            "2\n",
            "1\n",
            "0.5\n",
            "0\n",
            "3\n",
            "1267650600228229401496703205376\n",
            "-3\n",
            "2\n"
          ],
          "name": "stdout"
        }
      ]
    },
    {
      "metadata": {
        "id": "UzwZhtwOCU9y",
        "colab_type": "text"
      },
      "cell_type": "markdown",
      "source": [
        "boolean data type is represented by <kbd>bool</kbd> class\n",
        "* state: True and False\n",
        "* operators: <kbd>and</kbd>, <kbd>or</kbd>,  and <kbd>not</kbd>"
      ]
    },
    {
      "metadata": {
        "id": "WKDP1BOhDWhK",
        "colab_type": "code",
        "colab": {
          "base_uri": "https://localhost:8080/",
          "height": 102
        },
        "outputId": "dede751b-002c-4cfe-f8f0-6b06836b98a9"
      },
      "cell_type": "code",
      "source": [
        "print(True)\n",
        "print(False)\n",
        "print(False or True)\n",
        "print(not(False or True))\n",
        "print(True and True)"
      ],
      "execution_count": 3,
      "outputs": [
        {
          "output_type": "stream",
          "text": [
            "True\n",
            "False\n",
            "True\n",
            "False\n",
            "True\n"
          ],
          "name": "stdout"
        }
      ]
    },
    {
      "metadata": {
        "id": "KnrD2K3vD2yM",
        "colab_type": "code",
        "colab": {
          "base_uri": "https://localhost:8080/",
          "height": 68
        },
        "outputId": "3125a7c6-cc76-42fa-a5a7-d617d1b32007"
      },
      "cell_type": "code",
      "source": [
        "print(5==10)\n",
        "print(10 > 5)\n",
        "print((5 >= 1) and (5 <= 10))"
      ],
      "execution_count": 4,
      "outputs": [
        {
          "output_type": "stream",
          "text": [
            "False\n",
            "True\n",
            "True\n"
          ],
          "name": "stdout"
        }
      ]
    },
    {
      "metadata": {
        "id": "CwOWhH30D-Ax",
        "colab_type": "text"
      },
      "cell_type": "markdown",
      "source": [
        "identifier rules\n",
        "\n",
        "* do not start with number\n",
        "\n",
        "* can be any length\n",
        "\n",
        "* possible to include underscore(_)\n",
        "\n",
        "* better following camel case convention"
      ]
    },
    {
      "metadata": {
        "id": "6sGyaavTEhZ0",
        "colab_type": "code",
        "colab": {
          "base_uri": "https://localhost:8080/",
          "height": 34
        },
        "outputId": "3ad6a8cd-24d7-4dfc-90ff-d9be3a71114b"
      },
      "cell_type": "code",
      "source": [
        "theSum = 0\n",
        "print(theSum)"
      ],
      "execution_count": 5,
      "outputs": [
        {
          "output_type": "stream",
          "text": [
            "0\n"
          ],
          "name": "stdout"
        }
      ]
    },
    {
      "metadata": {
        "id": "vEXYL5m7EnIK",
        "colab_type": "code",
        "colab": {
          "base_uri": "https://localhost:8080/",
          "height": 34
        },
        "outputId": "b51ef4d3-3f9f-4478-c175-8cac6b3088ec"
      },
      "cell_type": "code",
      "source": [
        "theSum = theSum + 1\n",
        "print(theSum)"
      ],
      "execution_count": 6,
      "outputs": [
        {
          "output_type": "stream",
          "text": [
            "1\n"
          ],
          "name": "stdout"
        }
      ]
    },
    {
      "metadata": {
        "id": "k5Ie4uT4EwmG",
        "colab_type": "code",
        "colab": {
          "base_uri": "https://localhost:8080/",
          "height": 34
        },
        "outputId": "03e46543-be19-46b1-8547-13aa5edbce6f"
      },
      "cell_type": "code",
      "source": [
        "# dynamic characteristic of python\n",
        "theSum = True\n",
        "print(theSum)"
      ],
      "execution_count": 7,
      "outputs": [
        {
          "output_type": "stream",
          "text": [
            "True\n"
          ],
          "name": "stdout"
        }
      ]
    },
    {
      "metadata": {
        "id": "ryc4tF-xEy3o",
        "colab_type": "text"
      },
      "cell_type": "markdown",
      "source": [
        "### 1.8.2 Built-in Collection Data Types"
      ]
    },
    {
      "metadata": {
        "id": "XFhiyhB9FLOJ",
        "colab_type": "code",
        "colab": {
          "base_uri": "https://localhost:8080/",
          "height": 34
        },
        "outputId": "87fed987-eb04-409e-fb07-d96903dc40e2"
      },
      "cell_type": "code",
      "source": [
        "# when Python evaluates a list, the list itself is returned\n",
        "[1, 3, True, 6.5]"
      ],
      "execution_count": 8,
      "outputs": [
        {
          "output_type": "execute_result",
          "data": {
            "text/plain": [
              "[1, 3, True, 6.5]"
            ]
          },
          "metadata": {
            "tags": []
          },
          "execution_count": 8
        }
      ]
    },
    {
      "metadata": {
        "id": "qBmUmhq2FlHK",
        "colab_type": "code",
        "colab": {
          "base_uri": "https://localhost:8080/",
          "height": 34
        },
        "outputId": "847367b1-354b-4d39-f4c0-ab8f466a5108"
      },
      "cell_type": "code",
      "source": [
        "# in order to remember the list for later processing, its reference needs to be assigned to a variable\n",
        "myList = [1,3,True,6.5]\n",
        "print(myList)"
      ],
      "execution_count": 9,
      "outputs": [
        {
          "output_type": "stream",
          "text": [
            "[1, 3, True, 6.5]\n"
          ],
          "name": "stdout"
        }
      ]
    },
    {
      "metadata": {
        "id": "KbgpEeKbGXlz",
        "colab_type": "code",
        "colab": {
          "base_uri": "https://localhost:8080/",
          "height": 34
        },
        "outputId": "a05b34f9-a9f8-457c-adb4-be4fd5f494a7"
      },
      "cell_type": "code",
      "source": [
        "# initialization\n",
        "myList = [0] * 6\n",
        "print(myList)"
      ],
      "execution_count": 13,
      "outputs": [
        {
          "output_type": "stream",
          "text": [
            "[0, 0, 0, 0, 0, 0]\n"
          ],
          "name": "stdout"
        }
      ]
    },
    {
      "metadata": {
        "id": "GQoLFj0UFoC8",
        "colab_type": "code",
        "colab": {
          "base_uri": "https://localhost:8080/",
          "height": 51
        },
        "outputId": "61069434-d9a3-4fc8-d36c-07dc82e5b773"
      },
      "cell_type": "code",
      "source": [
        "'''\n",
        "One very important aside relating to the repetition operator is that the result is a repetition of references to the data objects in the sequence.\n",
        "\n",
        "'''\n",
        "myList = [1,2,3,4]\n",
        "A = [myList]*3\n",
        "print(A)\n",
        "myList[2]=45\n",
        "print(A)"
      ],
      "execution_count": 11,
      "outputs": [
        {
          "output_type": "stream",
          "text": [
            "[[1, 2, 3, 4], [1, 2, 3, 4], [1, 2, 3, 4]]\n",
            "[[1, 2, 45, 4], [1, 2, 45, 4], [1, 2, 45, 4]]\n"
          ],
          "name": "stdout"
        }
      ]
    },
    {
      "metadata": {
        "id": "1dmjuRvXF_D2",
        "colab_type": "text"
      },
      "cell_type": "markdown",
      "source": [
        "\n",
        "\n",
        "```python\n",
        "myList = [1024, 3, True, 6.5]\n",
        "myList.append(False)\n",
        "print(myList)\n",
        "myList.insert(2,4.5)\n",
        "print(myList)\n",
        "print(myList.pop())\n",
        "print(myList)\n",
        "print(myList.pop(1))\n",
        "print(myList)\n",
        "myList.pop(2)\n",
        "print(myList)\n",
        "myList.sort()\n",
        "print(myList)\n",
        "myList.reverse()\n",
        "print(myList)\n",
        "print(myList.count(6.5))\n",
        "print(myList.index(4.5))\n",
        "myList.remove(6.5)\n",
        "print(myList)\n",
        "del myList[0]\n",
        "print(myList)\n",
        "```\n",
        "\n"
      ]
    },
    {
      "metadata": {
        "id": "CBmJj5VCGrFP",
        "colab_type": "code",
        "colab": {
          "base_uri": "https://localhost:8080/",
          "height": 204
        },
        "outputId": "eb9fe94e-9ec3-497a-ae43-ed8dc78a0fea"
      },
      "cell_type": "code",
      "source": [
        "myList = [1024, 3, True, 6.5]\n",
        "myList.append(False)\n",
        "print(myList)\n",
        "myList.insert(2, 4.5)\n",
        "print(myList)\n",
        "print(myList.pop())\n",
        "print(myList.pop(1))\n",
        "print(myList)\n",
        "myList.pop(2)\n",
        "myList.sort()\n",
        "print(myList)\n",
        "myList.reverse()\n",
        "print(myList)\n",
        "print(myList.count(6.5))\n",
        "print(myList.index(4.5))\n",
        "myList.remove(6.5)\n",
        "print(myList)\n",
        "del myList[0]\n",
        "print(myList)"
      ],
      "execution_count": 14,
      "outputs": [
        {
          "output_type": "stream",
          "text": [
            "[1024, 3, True, 6.5, False]\n",
            "[1024, 3, 4.5, True, 6.5, False]\n",
            "False\n",
            "3\n",
            "[1024, 4.5, True, 6.5]\n",
            "[4.5, 6.5, 1024]\n",
            "[1024, 6.5, 4.5]\n",
            "1\n",
            "2\n",
            "[1024, 4.5]\n",
            "[4.5]\n"
          ],
          "name": "stdout"
        }
      ]
    },
    {
      "metadata": {
        "id": "p3zUv-N_HQ7Q",
        "colab_type": "code",
        "colab": {
          "base_uri": "https://localhost:8080/",
          "height": 34
        },
        "outputId": "fbbdbd87-ecfd-4e06-9125-533786408482"
      },
      "cell_type": "code",
      "source": [
        "range(10)"
      ],
      "execution_count": 15,
      "outputs": [
        {
          "output_type": "execute_result",
          "data": {
            "text/plain": [
              "range(0, 10)"
            ]
          },
          "metadata": {
            "tags": []
          },
          "execution_count": 15
        }
      ]
    },
    {
      "metadata": {
        "id": "iVGUuuYoHvFF",
        "colab_type": "code",
        "colab": {
          "base_uri": "https://localhost:8080/",
          "height": 34
        },
        "outputId": "318e2192-395b-473c-c457-d8db61eab055"
      },
      "cell_type": "code",
      "source": [
        "list(range(10))"
      ],
      "execution_count": 16,
      "outputs": [
        {
          "output_type": "execute_result",
          "data": {
            "text/plain": [
              "[0, 1, 2, 3, 4, 5, 6, 7, 8, 9]"
            ]
          },
          "metadata": {
            "tags": []
          },
          "execution_count": 16
        }
      ]
    },
    {
      "metadata": {
        "id": "jYU3unQXHvwh",
        "colab_type": "code",
        "colab": {
          "base_uri": "https://localhost:8080/",
          "height": 34
        },
        "outputId": "fb893415-dabf-4d5a-d042-7447d222ca19"
      },
      "cell_type": "code",
      "source": [
        "range(5, 10)"
      ],
      "execution_count": 17,
      "outputs": [
        {
          "output_type": "execute_result",
          "data": {
            "text/plain": [
              "range(5, 10)"
            ]
          },
          "metadata": {
            "tags": []
          },
          "execution_count": 17
        }
      ]
    },
    {
      "metadata": {
        "id": "BtVXg5EwHxMG",
        "colab_type": "code",
        "colab": {
          "base_uri": "https://localhost:8080/",
          "height": 34
        },
        "outputId": "0e942006-fe73-492b-af2f-f315569ef0ce"
      },
      "cell_type": "code",
      "source": [
        "list(range(5, 10))"
      ],
      "execution_count": 18,
      "outputs": [
        {
          "output_type": "execute_result",
          "data": {
            "text/plain": [
              "[5, 6, 7, 8, 9]"
            ]
          },
          "metadata": {
            "tags": []
          },
          "execution_count": 18
        }
      ]
    },
    {
      "metadata": {
        "id": "G4hZndn8HyBX",
        "colab_type": "code",
        "colab": {
          "base_uri": "https://localhost:8080/",
          "height": 34
        },
        "outputId": "6b39658b-99dc-472a-dc87-709813f60181"
      },
      "cell_type": "code",
      "source": [
        "list(range(5, 10, 2))"
      ],
      "execution_count": 19,
      "outputs": [
        {
          "output_type": "execute_result",
          "data": {
            "text/plain": [
              "[5, 7, 9]"
            ]
          },
          "metadata": {
            "tags": []
          },
          "execution_count": 19
        }
      ]
    },
    {
      "metadata": {
        "id": "Yio7KuSrH0H4",
        "colab_type": "code",
        "colab": {
          "base_uri": "https://localhost:8080/",
          "height": 34
        },
        "outputId": "cee71f46-935e-45e9-f945-a3742a1e0222"
      },
      "cell_type": "code",
      "source": [
        "list(range(10, 1, -1))"
      ],
      "execution_count": 21,
      "outputs": [
        {
          "output_type": "execute_result",
          "data": {
            "text/plain": [
              "[10, 9, 8, 7, 6, 5, 4, 3, 2]"
            ]
          },
          "metadata": {
            "tags": []
          },
          "execution_count": 21
        }
      ]
    },
    {
      "metadata": {
        "id": "D8ZPY_WWH3iG",
        "colab_type": "code",
        "colab": {}
      },
      "cell_type": "code",
      "source": [
        "#Strings"
      ],
      "execution_count": 0,
      "outputs": []
    },
    {
      "metadata": {
        "id": "coRwesanH-ur",
        "colab_type": "code",
        "colab": {
          "base_uri": "https://localhost:8080/",
          "height": 34
        },
        "outputId": "cf54b292-7227-48cb-e46e-a47c2185e02b"
      },
      "cell_type": "code",
      "source": [
        "\"David\""
      ],
      "execution_count": 23,
      "outputs": [
        {
          "output_type": "execute_result",
          "data": {
            "text/plain": [
              "'David'"
            ]
          },
          "metadata": {
            "tags": []
          },
          "execution_count": 23
        }
      ]
    },
    {
      "metadata": {
        "id": "iT865rSDIFm_",
        "colab_type": "code",
        "colab": {}
      },
      "cell_type": "code",
      "source": [
        "myName = \"David\""
      ],
      "execution_count": 0,
      "outputs": []
    },
    {
      "metadata": {
        "id": "RNQXVh86IIjK",
        "colab_type": "code",
        "colab": {
          "base_uri": "https://localhost:8080/",
          "height": 34
        },
        "outputId": "4325e274-a86a-416c-e63b-0ad7dd1467b6"
      },
      "cell_type": "code",
      "source": [
        "myName[3]"
      ],
      "execution_count": 25,
      "outputs": [
        {
          "output_type": "execute_result",
          "data": {
            "text/plain": [
              "'i'"
            ]
          },
          "metadata": {
            "tags": []
          },
          "execution_count": 25
        }
      ]
    },
    {
      "metadata": {
        "id": "Twiy0oJyIKw4",
        "colab_type": "code",
        "colab": {
          "base_uri": "https://localhost:8080/",
          "height": 34
        },
        "outputId": "3df2ac3e-07bd-4731-91bc-92bca82e6bb0"
      },
      "cell_type": "code",
      "source": [
        "myName * 2"
      ],
      "execution_count": 26,
      "outputs": [
        {
          "output_type": "execute_result",
          "data": {
            "text/plain": [
              "'DavidDavid'"
            ]
          },
          "metadata": {
            "tags": []
          },
          "execution_count": 26
        }
      ]
    },
    {
      "metadata": {
        "id": "uJcPqIv_INH_",
        "colab_type": "code",
        "colab": {
          "base_uri": "https://localhost:8080/",
          "height": 34
        },
        "outputId": "df15d129-b721-48d6-cdb0-2cea51d6db2c"
      },
      "cell_type": "code",
      "source": [
        "len(myName)"
      ],
      "execution_count": 27,
      "outputs": [
        {
          "output_type": "execute_result",
          "data": {
            "text/plain": [
              "5"
            ]
          },
          "metadata": {
            "tags": []
          },
          "execution_count": 27
        }
      ]
    },
    {
      "metadata": {
        "id": "KujqYUziIOph",
        "colab_type": "code",
        "colab": {
          "base_uri": "https://localhost:8080/",
          "height": 34
        },
        "outputId": "1eab01b3-a87d-46ed-ae14-09d4a1241a4b"
      },
      "cell_type": "code",
      "source": [
        "myName"
      ],
      "execution_count": 28,
      "outputs": [
        {
          "output_type": "execute_result",
          "data": {
            "text/plain": [
              "'David'"
            ]
          },
          "metadata": {
            "tags": []
          },
          "execution_count": 28
        }
      ]
    },
    {
      "metadata": {
        "id": "8LojwmoIIWx3",
        "colab_type": "code",
        "colab": {
          "base_uri": "https://localhost:8080/",
          "height": 34
        },
        "outputId": "00ff63f6-9050-4317-90b6-2b4f8e8e2fa5"
      },
      "cell_type": "code",
      "source": [
        "myName.upper()"
      ],
      "execution_count": 29,
      "outputs": [
        {
          "output_type": "execute_result",
          "data": {
            "text/plain": [
              "'DAVID'"
            ]
          },
          "metadata": {
            "tags": []
          },
          "execution_count": 29
        }
      ]
    },
    {
      "metadata": {
        "id": "JJqlsLEkIYiD",
        "colab_type": "code",
        "colab": {
          "base_uri": "https://localhost:8080/",
          "height": 34
        },
        "outputId": "bd920d78-a601-4a01-df52-ef5849028e7c"
      },
      "cell_type": "code",
      "source": [
        "myName.center(10)"
      ],
      "execution_count": 30,
      "outputs": [
        {
          "output_type": "execute_result",
          "data": {
            "text/plain": [
              "'  David   '"
            ]
          },
          "metadata": {
            "tags": []
          },
          "execution_count": 30
        }
      ]
    },
    {
      "metadata": {
        "id": "w2oZPbnUIaKU",
        "colab_type": "code",
        "colab": {
          "base_uri": "https://localhost:8080/",
          "height": 34
        },
        "outputId": "4d354f04-e130-4f6d-ced6-b70502281cc0"
      },
      "cell_type": "code",
      "source": [
        "myName.find('v')"
      ],
      "execution_count": 31,
      "outputs": [
        {
          "output_type": "execute_result",
          "data": {
            "text/plain": [
              "2"
            ]
          },
          "metadata": {
            "tags": []
          },
          "execution_count": 31
        }
      ]
    },
    {
      "metadata": {
        "id": "wE4RR0vyIcE-",
        "colab_type": "code",
        "colab": {
          "base_uri": "https://localhost:8080/",
          "height": 34
        },
        "outputId": "dce1fa0b-cdfe-4f64-f01f-7bd5c163d860"
      },
      "cell_type": "code",
      "source": [
        "myName.split('v')"
      ],
      "execution_count": 32,
      "outputs": [
        {
          "output_type": "execute_result",
          "data": {
            "text/plain": [
              "['Da', 'id']"
            ]
          },
          "metadata": {
            "tags": []
          },
          "execution_count": 32
        }
      ]
    },
    {
      "metadata": {
        "id": "ePLTRI4qIedC",
        "colab_type": "text"
      },
      "cell_type": "markdown",
      "source": [
        "* mutability: major difference between list and string"
      ]
    },
    {
      "metadata": {
        "id": "q2vxrlnvJXnG",
        "colab_type": "text"
      },
      "cell_type": "markdown",
      "source": [
        "* tuples: immutable lists"
      ]
    },
    {
      "metadata": {
        "id": "tryiayidJg_s",
        "colab_type": "code",
        "colab": {
          "base_uri": "https://localhost:8080/",
          "height": 34
        },
        "outputId": "c90edd50-d633-442f-edbb-7053e638359c"
      },
      "cell_type": "code",
      "source": [
        "set()"
      ],
      "execution_count": 33,
      "outputs": [
        {
          "output_type": "execute_result",
          "data": {
            "text/plain": [
              "set()"
            ]
          },
          "metadata": {
            "tags": []
          },
          "execution_count": 33
        }
      ]
    },
    {
      "metadata": {
        "id": "wpJ-Y2HfJmZi",
        "colab_type": "code",
        "colab": {
          "base_uri": "https://localhost:8080/",
          "height": 34
        },
        "outputId": "4182b28c-2ee4-4347-9b93-8ab17261fb02"
      },
      "cell_type": "code",
      "source": [
        "{3, 6, \"cat\", 4.5, False}"
      ],
      "execution_count": 34,
      "outputs": [
        {
          "output_type": "execute_result",
          "data": {
            "text/plain": [
              "{3, 4.5, 6, False, 'cat'}"
            ]
          },
          "metadata": {
            "tags": []
          },
          "execution_count": 34
        }
      ]
    },
    {
      "metadata": {
        "id": "-TFxEVXdJrAY",
        "colab_type": "code",
        "colab": {}
      },
      "cell_type": "code",
      "source": [
        "mySet = {3,6,\"cat\",4.5,False}"
      ],
      "execution_count": 0,
      "outputs": []
    },
    {
      "metadata": {
        "id": "BCg6bpZYJsvk",
        "colab_type": "code",
        "colab": {
          "base_uri": "https://localhost:8080/",
          "height": 34
        },
        "outputId": "d900c881-3566-4c52-f068-ff4649abe57f"
      },
      "cell_type": "code",
      "source": [
        "mySet"
      ],
      "execution_count": 36,
      "outputs": [
        {
          "output_type": "execute_result",
          "data": {
            "text/plain": [
              "{3, 4.5, 6, False, 'cat'}"
            ]
          },
          "metadata": {
            "tags": []
          },
          "execution_count": 36
        }
      ]
    },
    {
      "metadata": {
        "id": "D-iOaIFyJuiq",
        "colab_type": "code",
        "colab": {
          "base_uri": "https://localhost:8080/",
          "height": 136
        },
        "outputId": "70889325-4e31-4320-de0c-6eeb8f245f22"
      },
      "cell_type": "code",
      "source": [
        "capitals = {'Iowa':'DesMoines','Wisconsin':'Madison'}\n",
        "print(capitals['Iowa'])\n",
        "capitals['Utah']='SaltLakeCity'\n",
        "print(capitals)\n",
        "capitals['California']='Sacramento'\n",
        "print(len(capitals))\n",
        "for k in capitals:\n",
        "  print(capitals[k],\" is the capital of \", k)"
      ],
      "execution_count": 37,
      "outputs": [
        {
          "output_type": "stream",
          "text": [
            "DesMoines\n",
            "{'Iowa': 'DesMoines', 'Wisconsin': 'Madison', 'Utah': 'SaltLakeCity'}\n",
            "4\n",
            "DesMoines  is the capital of  Iowa\n",
            "Madison  is the capital of  Wisconsin\n",
            "SaltLakeCity  is the capital of  Utah\n",
            "Sacramento  is the capital of  California\n"
          ],
          "name": "stdout"
        }
      ]
    },
    {
      "metadata": {
        "id": "u3BP5wuOKFgm",
        "colab_type": "text"
      },
      "cell_type": "markdown",
      "source": [
        "## 1.9 Input and Output"
      ]
    },
    {
      "metadata": {
        "id": "WlEnp_s2Kv1z",
        "colab_type": "code",
        "colab": {
          "base_uri": "https://localhost:8080/",
          "height": 51
        },
        "outputId": "0073335d-7f57-4c33-ff9d-8305261fa4e8"
      },
      "cell_type": "code",
      "source": [
        "aName = input(\"Please enter your name \")\n",
        "print(\"Your name in all capitals is\",aName.upper(), \"and has length\", len(aName))"
      ],
      "execution_count": 38,
      "outputs": [
        {
          "output_type": "stream",
          "text": [
            "Please enter your name Henry\n",
            "Your name in all capitals is HENRY and has length 5\n"
          ],
          "name": "stdout"
        }
      ]
    },
    {
      "metadata": {
        "id": "GKzgClTRLHZw",
        "colab_type": "code",
        "colab": {
          "base_uri": "https://localhost:8080/",
          "height": 34
        },
        "outputId": "5291b9b9-4e60-4b59-b949-8e882d6db58d"
      },
      "cell_type": "code",
      "source": [
        "print(\"Hello\", \"World\", end=\"***\")"
      ],
      "execution_count": 39,
      "outputs": [
        {
          "output_type": "stream",
          "text": [
            "Hello World***"
          ],
          "name": "stdout"
        }
      ]
    },
    {
      "metadata": {
        "id": "Rh5g10QxLfd2",
        "colab_type": "code",
        "colab": {
          "base_uri": "https://localhost:8080/",
          "height": 34
        },
        "outputId": "fd066907-791a-4760-90d9-a84ebb41694e"
      },
      "cell_type": "code",
      "source": [
        "sradius = input(\"Please enter the radius of the circle: \")\n",
        "radius = float(sradius)\n",
        "diameter = radius * 2"
      ],
      "execution_count": 40,
      "outputs": [
        {
          "output_type": "stream",
          "text": [
            "Please enter the radius of the circle: 10\n"
          ],
          "name": "stdout"
        }
      ]
    },
    {
      "metadata": {
        "id": "CwMFQlDJMRuW",
        "colab_type": "code",
        "colab": {
          "base_uri": "https://localhost:8080/",
          "height": 85
        },
        "outputId": "2fcd392a-39b6-4b57-fc81-f5fff3e9fe55"
      },
      "cell_type": "code",
      "source": [
        "print(\"Hello, World\")\n",
        "print(\"Hello\", \"World\")\n",
        "print(\"Hello\", \"World\", sep=\"*\")\n",
        "print(\"Hello\", \"World\", end=\"*\")"
      ],
      "execution_count": 41,
      "outputs": [
        {
          "output_type": "stream",
          "text": [
            "Hello, World\n",
            "Hello World\n",
            "Hello*World\n",
            "Hello World*"
          ],
          "name": "stdout"
        }
      ]
    },
    {
      "metadata": {
        "id": "dTpxsvV8MoTq",
        "colab_type": "code",
        "colab": {
          "base_uri": "https://localhost:8080/",
          "height": 34
        },
        "outputId": "57242358-e282-4896-d621-ac02bfa0e72d"
      },
      "cell_type": "code",
      "source": [
        "age = 30\n",
        "print(aName, \"is\", age, \"years old.\")"
      ],
      "execution_count": 43,
      "outputs": [
        {
          "output_type": "stream",
          "text": [
            "Henry is 30 years old.\n"
          ],
          "name": "stdout"
        }
      ]
    },
    {
      "metadata": {
        "id": "0OEONZSXNHQj",
        "colab_type": "text"
      },
      "cell_type": "markdown",
      "source": [
        "A formatted string is a template in which words or spaces that will remain constant are combined with placeholders for variables that will be inserted into the string. For example, the statement"
      ]
    },
    {
      "metadata": {
        "id": "RSaOs6j1M0o4",
        "colab_type": "code",
        "colab": {
          "base_uri": "https://localhost:8080/",
          "height": 34
        },
        "outputId": "fb45525a-ce2b-46d5-9c9c-fa5020fde8a6"
      },
      "cell_type": "code",
      "source": [
        "print(\"%s is %d years old\" % (aName, age))"
      ],
      "execution_count": 44,
      "outputs": [
        {
          "output_type": "stream",
          "text": [
            "Henry is 30 years old\n"
          ],
          "name": "stdout"
        }
      ]
    },
    {
      "metadata": {
        "id": "48MXOg0lNDEZ",
        "colab_type": "code",
        "colab": {
          "base_uri": "https://localhost:8080/",
          "height": 85
        },
        "outputId": "cb56f002-a0d7-4d46-f1f8-33b32211ae91"
      },
      "cell_type": "code",
      "source": [
        "price = 24\n",
        "item = \"banana\"\n",
        "print(\"The %s costs %d cents\" % (item, price))\n",
        "print(\"The %+10s costs %5.2f cents\" % (item, price))\n",
        "print(\"The %+10s costs %10.2f cents\"%(item,price))\n",
        "itemdict = {\"item\": \"banana\", \"price\": 24}\n",
        "print(\"The %(item)s costs %(price)7.1f cents\" %itemdict)"
      ],
      "execution_count": 46,
      "outputs": [
        {
          "output_type": "stream",
          "text": [
            "The banana costs 24 cents\n",
            "The     banana costs 24.00 cents\n",
            "The     banana costs      24.00 cents\n",
            "The banana costs    24.0 cents\n"
          ],
          "name": "stdout"
        }
      ]
    },
    {
      "metadata": {
        "id": "YrZHJx7rSphp",
        "colab_type": "code",
        "colab": {
          "base_uri": "https://localhost:8080/",
          "height": 34
        },
        "outputId": "9f2afd6f-c38b-434a-96da-5402295931e1"
      },
      "cell_type": "code",
      "source": [
        "print(\"Hello\",\"World\", sep=\"***\")"
      ],
      "execution_count": 47,
      "outputs": [
        {
          "output_type": "stream",
          "text": [
            "Hello***World\n"
          ],
          "name": "stdout"
        }
      ]
    },
    {
      "metadata": {
        "id": "MJap1CPhS4Ry",
        "colab_type": "text"
      },
      "cell_type": "markdown",
      "source": [
        "## 1.10 Control Structures"
      ]
    },
    {
      "metadata": {
        "id": "WDMvBa_JTyS_",
        "colab_type": "text"
      },
      "cell_type": "markdown",
      "source": [
        "As we noted earlier, algorithms require two important control structures: iteration and selection. Both of these are supported by Python in various forms. The programmer can choose the statement that is most useful for the given circumstance."
      ]
    },
    {
      "metadata": {
        "id": "shpkUQ0ZTy8v",
        "colab_type": "text"
      },
      "cell_type": "markdown",
      "source": [
        "For iteration, Python provides a standard while statement and a very powerful for statement. The while statement repeats a body of code as long as a condition is true."
      ]
    },
    {
      "metadata": {
        "id": "NqwrBeEwT90E",
        "colab_type": "code",
        "colab": {
          "base_uri": "https://localhost:8080/",
          "height": 102
        },
        "outputId": "fb8a792b-14b1-450e-8599-4fbf87757aeb"
      },
      "cell_type": "code",
      "source": [
        "counter = 1\n",
        "while counter <= 5:\n",
        "  print(\"Hello, World      iterNum=%d\" % (counter))\n",
        "  counter = counter + 1"
      ],
      "execution_count": 49,
      "outputs": [
        {
          "output_type": "stream",
          "text": [
            "Hello, World      iterNum=1\n",
            "Hello, World      iterNum=2\n",
            "Hello, World      iterNum=3\n",
            "Hello, World      iterNum=4\n",
            "Hello, World      iterNum=5\n"
          ],
          "name": "stdout"
        }
      ]
    },
    {
      "metadata": {
        "id": "KGcNteRjUErm",
        "colab_type": "code",
        "colab": {
          "base_uri": "https://localhost:8080/",
          "height": 102
        },
        "outputId": "28bc6793-e98f-4131-e95d-5b6db9db5235"
      },
      "cell_type": "code",
      "source": [
        "for item in range(5):\n",
        "  print(item ** 2)"
      ],
      "execution_count": 50,
      "outputs": [
        {
          "output_type": "stream",
          "text": [
            "0\n",
            "1\n",
            "4\n",
            "9\n",
            "16\n"
          ],
          "name": "stdout"
        }
      ]
    },
    {
      "metadata": {
        "id": "Den-Xsb4U5rl",
        "colab_type": "code",
        "colab": {
          "base_uri": "https://localhost:8080/",
          "height": 34
        },
        "outputId": "46b83d5a-9884-4cd6-fea1-0b5e89812d5a"
      },
      "cell_type": "code",
      "source": [
        "wordlist = ['cat', 'dog', 'rabbit']\n",
        "letterlist = []\n",
        "for aword in wordlist:\n",
        "  for aletter in aword:\n",
        "    letterlist.append(aletter)\n",
        "print(letterlist)"
      ],
      "execution_count": 52,
      "outputs": [
        {
          "output_type": "stream",
          "text": [
            "['c', 'a', 't', 'd', 'o', 'g', 'r', 'a', 'b', 'b', 'i', 't']\n"
          ],
          "name": "stdout"
        }
      ]
    },
    {
      "metadata": {
        "id": "sOCl_cmdau7W",
        "colab_type": "code",
        "colab": {
          "base_uri": "https://localhost:8080/",
          "height": 34
        },
        "outputId": "742fb1de-1f2e-47d2-e1b2-0f9f2d2b732e"
      },
      "cell_type": "code",
      "source": [
        "n = -7\n",
        "if n < 0:\n",
        "  print(\"Sorry, the value is negative\")\n",
        "else:\n",
        "  print(math.sqrt(n))"
      ],
      "execution_count": 54,
      "outputs": [
        {
          "output_type": "stream",
          "text": [
            "Sorry, the value is negative\n"
          ],
          "name": "stdout"
        }
      ]
    },
    {
      "metadata": {
        "id": "DcNujTWDbDMW",
        "colab_type": "code",
        "colab": {
          "base_uri": "https://localhost:8080/",
          "height": 34
        },
        "outputId": "15f82f79-56bc-48c9-87e9-add0fea591cf"
      },
      "cell_type": "code",
      "source": [
        "# nested if-else selection construct\n",
        "score = 81\n",
        "if score >= 90:\n",
        "  print(\"A\")\n",
        "else:\n",
        "  if score >= 80:\n",
        "    print(\"B\")\n",
        "  else:\n",
        "    if score >= 70:\n",
        "      print(\"C\")\n",
        "    else:\n",
        "      print('F')"
      ],
      "execution_count": 55,
      "outputs": [
        {
          "output_type": "stream",
          "text": [
            "B\n"
          ],
          "name": "stdout"
        }
      ]
    },
    {
      "metadata": {
        "id": "HFT26kAjjKen",
        "colab_type": "code",
        "colab": {
          "base_uri": "https://localhost:8080/",
          "height": 34
        },
        "outputId": "b86854fb-38c2-4e1a-de6e-3f1acd8c4cbf"
      },
      "cell_type": "code",
      "source": [
        "# alternative if-elif-else selection construct\n",
        "score = 81\n",
        "if score >= 90:\n",
        "  print('A')\n",
        "elif score >= 80:\n",
        "  print('B')\n",
        "elif socre >= 70:\n",
        "  print('C')\n",
        "else:\n",
        "  print('F')  "
      ],
      "execution_count": 56,
      "outputs": [
        {
          "output_type": "stream",
          "text": [
            "B\n"
          ],
          "name": "stdout"
        }
      ]
    },
    {
      "metadata": {
        "id": "7uUFxjqwjAoP",
        "colab_type": "code",
        "colab": {
          "base_uri": "https://localhost:8080/",
          "height": 34
        },
        "outputId": "5c046500-e07c-4baf-9163-8d7665f5afd4"
      },
      "cell_type": "code",
      "source": [
        "# single-way selection construct: if\n",
        "import math\n",
        "n = -80\n",
        "if n<0:\n",
        "   n = abs(n)\n",
        "print(math.sqrt(n))"
      ],
      "execution_count": 60,
      "outputs": [
        {
          "output_type": "stream",
          "text": [
            "8.94427190999916\n"
          ],
          "name": "stdout"
        }
      ]
    },
    {
      "metadata": {
        "id": "UvkLFZENj5KS",
        "colab_type": "code",
        "colab": {
          "base_uri": "https://localhost:8080/",
          "height": 34
        },
        "outputId": "ffd44a12-8a2d-4528-ac4f-9071818ad6fd"
      },
      "cell_type": "code",
      "source": [
        "wordList = ['cat', 'dog', 'rabbit']\n",
        "aLetterList = []\n",
        "for aWord in wordList:\n",
        "  for aLetter in aWord:\n",
        "    aLetterList.append(aLetter)\n",
        "singleCopyLetterList = list(set(aLetterList))\n",
        "print(singleCopyLetterList)"
      ],
      "execution_count": 61,
      "outputs": [
        {
          "output_type": "stream",
          "text": [
            "['g', 'i', 'd', 'r', 'a', 'c', 'b', 't', 'o']\n"
          ],
          "name": "stdout"
        }
      ]
    },
    {
      "metadata": {
        "id": "daYYBHyLllJg",
        "colab_type": "text"
      },
      "cell_type": "markdown",
      "source": [
        "**list comprehension** : an alternative method for creating a list that uses iteration and selection constructs"
      ]
    },
    {
      "metadata": {
        "id": "30xzGWBbmS8H",
        "colab_type": "code",
        "colab": {
          "base_uri": "https://localhost:8080/",
          "height": 51
        },
        "outputId": "8d60b201-8323-4efe-b68e-e3349ac59273"
      },
      "cell_type": "code",
      "source": [
        "%%time\n",
        "wordList = ['cat', 'dog', 'rabbit']\n",
        "aLetterList = [aLetter for aWord in wordList for aLetter in aWord]"
      ],
      "execution_count": 68,
      "outputs": [
        {
          "output_type": "stream",
          "text": [
            "CPU times: user 6 µs, sys: 1 µs, total: 7 µs\n",
            "Wall time: 10.3 µs\n"
          ],
          "name": "stdout"
        }
      ]
    },
    {
      "metadata": {
        "id": "CDKlxOnkm9Gx",
        "colab_type": "code",
        "colab": {
          "base_uri": "https://localhost:8080/",
          "height": 51
        },
        "outputId": "786503ba-d7eb-46a3-b9b7-5202c36b1597"
      },
      "cell_type": "code",
      "source": [
        "%%time\n",
        "wordList = ['cat', 'dog', 'rabbit']\n",
        "aLetterList = []\n",
        "for aWord in wordList:\n",
        "  for aLetter in aWord:\n",
        "    aLetterList.append(aLetter)"
      ],
      "execution_count": 67,
      "outputs": [
        {
          "output_type": "stream",
          "text": [
            "CPU times: user 6 µs, sys: 1 µs, total: 7 µs\n",
            "Wall time: 11.2 µs\n"
          ],
          "name": "stdout"
        }
      ]
    },
    {
      "metadata": {
        "id": "uLmk_Mx8m0vx",
        "colab_type": "code",
        "colab": {
          "base_uri": "https://localhost:8080/",
          "height": 34
        },
        "outputId": "334ba4ae-70df-4ba1-b589-7ba32a288d00"
      },
      "cell_type": "code",
      "source": [
        "print(aLetterList)"
      ],
      "execution_count": 63,
      "outputs": [
        {
          "output_type": "stream",
          "text": [
            "['c', 'a', 't', 'd', 'o', 'g', 'r', 'a', 'b', 'b', 'i', 't']\n"
          ],
          "name": "stdout"
        }
      ]
    },
    {
      "metadata": {
        "id": "XI3XJmSCnqXr",
        "colab_type": "code",
        "colab": {
          "base_uri": "https://localhost:8080/",
          "height": 34
        },
        "outputId": "c4981192-a294-40d4-e2b3-a20b1a730294"
      },
      "cell_type": "code",
      "source": [
        "aLetterList.count('k')"
      ],
      "execution_count": 71,
      "outputs": [
        {
          "output_type": "execute_result",
          "data": {
            "text/plain": [
              "0"
            ]
          },
          "metadata": {
            "tags": []
          },
          "execution_count": 71
        }
      ]
    },
    {
      "metadata": {
        "id": "jTBBDhNjm3n9",
        "colab_type": "code",
        "colab": {}
      },
      "cell_type": "code",
      "source": [
        "wordList = ['cat', 'dog', 'rabbit']\n",
        "aLetterList = [aLetter for aWord in wordList for aLetter in aWord]"
      ],
      "execution_count": 0,
      "outputs": []
    },
    {
      "metadata": {
        "id": "7NW1cdhBn_R5",
        "colab_type": "code",
        "colab": {
          "base_uri": "https://localhost:8080/",
          "height": 34
        },
        "outputId": "26520a60-6e2a-4233-8536-8062228f98dc"
      },
      "cell_type": "code",
      "source": [
        "print(aLetterList)"
      ],
      "execution_count": 82,
      "outputs": [
        {
          "output_type": "stream",
          "text": [
            "['c', 'a', 't', 'd', 'o', 'g', 'r', 'a', 'b', 'b', 'i', 't']\n"
          ],
          "name": "stdout"
        }
      ]
    },
    {
      "metadata": {
        "id": "BLPWxCKGoCSl",
        "colab_type": "code",
        "colab": {}
      },
      "cell_type": "code",
      "source": [
        "singleLetterList = list(set(aLetterList))"
      ],
      "execution_count": 0,
      "outputs": []
    },
    {
      "metadata": {
        "id": "pciWcCatoU8m",
        "colab_type": "code",
        "colab": {
          "base_uri": "https://localhost:8080/",
          "height": 34
        },
        "outputId": "21cedec1-fde4-4ab9-fa64-e1a68cb43a4e"
      },
      "cell_type": "code",
      "source": [
        "print(singleLetterList)"
      ],
      "execution_count": 84,
      "outputs": [
        {
          "output_type": "stream",
          "text": [
            "['g', 'i', 'd', 'r', 'a', 'c', 'b', 't', 'o']\n"
          ],
          "name": "stdout"
        }
      ]
    },
    {
      "metadata": {
        "id": "PG9Q9c0XoXiO",
        "colab_type": "text"
      },
      "cell_type": "markdown",
      "source": [
        "## 1.11 Exception Handling"
      ]
    },
    {
      "metadata": {
        "id": "bQNd0if1pn10",
        "colab_type": "text"
      },
      "cell_type": "markdown",
      "source": [
        "\n",
        "The other type of error, known as a logic error, denotes a situation where the program executes but gives the wrong result. This can be due to an error in the underlying algorithm or an error in your translation of that algorithm. In some cases, logic errors lead to very bad situations such as trying to divide by zero or trying to access an item in a list where the index of the item is outside the bounds of the list. In this case, the logic error leads to a runtime error that causes the program to terminate. These types of runtime errors are typically called exceptions."
      ]
    },
    {
      "metadata": {
        "id": "a6cjq23tppXE",
        "colab_type": "code",
        "colab": {
          "base_uri": "https://localhost:8080/",
          "height": 85
        },
        "outputId": "05045ff1-ecbd-4441-8610-3259d70ce4e4"
      },
      "cell_type": "code",
      "source": [
        "anumber = int(input(\"Please enter an integer \"))\n",
        "try:\n",
        "  print(math.sqrt(anumber))\n",
        "#except RuntimeError:\n",
        "except ValueError:\n",
        "  print(\"Bad Value for square root\")\n",
        "  print(\"Using absolute value instead\")\n",
        "  print(math.sqrt(abs(anumber)))"
      ],
      "execution_count": 87,
      "outputs": [
        {
          "output_type": "stream",
          "text": [
            "Please enter an integer -10\n",
            "Bad Value for square root\n",
            "Using absolute value instead\n",
            "3.1622776601683795\n"
          ],
          "name": "stdout"
        }
      ]
    },
    {
      "metadata": {
        "id": "htS0pOYNqIRv",
        "colab_type": "code",
        "colab": {
          "base_uri": "https://localhost:8080/",
          "height": 249
        },
        "outputId": "fdc06c68-5406-4730-ad7b-85b5b94aefe0"
      },
      "cell_type": "code",
      "source": [
        "aNumber = int(input(\"Please enter an integer: \"))\n",
        "if aNumber < 0:\n",
        "  raise RuntimeError(\"You can't use a negative number\")\n",
        "else:\n",
        "  print(math.sqrt(aNumber))"
      ],
      "execution_count": 88,
      "outputs": [
        {
          "output_type": "stream",
          "text": [
            "Please enter an integer: -10\n"
          ],
          "name": "stdout"
        },
        {
          "output_type": "error",
          "ename": "RuntimeError",
          "evalue": "ignored",
          "traceback": [
            "\u001b[0;31m---------------------------------------------------------------------------\u001b[0m",
            "\u001b[0;31mRuntimeError\u001b[0m                              Traceback (most recent call last)",
            "\u001b[0;32m<ipython-input-88-f31ed96300d5>\u001b[0m in \u001b[0;36m<module>\u001b[0;34m()\u001b[0m\n\u001b[1;32m      1\u001b[0m \u001b[0maNumber\u001b[0m \u001b[0;34m=\u001b[0m \u001b[0mint\u001b[0m\u001b[0;34m(\u001b[0m\u001b[0minput\u001b[0m\u001b[0;34m(\u001b[0m\u001b[0;34m\"Please enter an integer: \"\u001b[0m\u001b[0;34m)\u001b[0m\u001b[0;34m)\u001b[0m\u001b[0;34m\u001b[0m\u001b[0;34m\u001b[0m\u001b[0m\n\u001b[1;32m      2\u001b[0m \u001b[0;32mif\u001b[0m \u001b[0maNumber\u001b[0m \u001b[0;34m<\u001b[0m \u001b[0;36m0\u001b[0m\u001b[0;34m:\u001b[0m\u001b[0;34m\u001b[0m\u001b[0;34m\u001b[0m\u001b[0m\n\u001b[0;32m----> 3\u001b[0;31m   \u001b[0;32mraise\u001b[0m \u001b[0mRuntimeError\u001b[0m\u001b[0;34m(\u001b[0m\u001b[0;34m\"You can't use a negative number\"\u001b[0m\u001b[0;34m)\u001b[0m\u001b[0;34m\u001b[0m\u001b[0;34m\u001b[0m\u001b[0m\n\u001b[0m\u001b[1;32m      4\u001b[0m \u001b[0;32melse\u001b[0m\u001b[0;34m:\u001b[0m\u001b[0;34m\u001b[0m\u001b[0;34m\u001b[0m\u001b[0m\n\u001b[1;32m      5\u001b[0m   \u001b[0mprint\u001b[0m\u001b[0;34m(\u001b[0m\u001b[0mmath\u001b[0m\u001b[0;34m.\u001b[0m\u001b[0msqrt\u001b[0m\u001b[0;34m(\u001b[0m\u001b[0maNumber\u001b[0m\u001b[0;34m)\u001b[0m\u001b[0;34m)\u001b[0m\u001b[0;34m\u001b[0m\u001b[0;34m\u001b[0m\u001b[0m\n",
            "\u001b[0;31mRuntimeError\u001b[0m: You can't use a negative number"
          ]
        }
      ]
    },
    {
      "metadata": {
        "id": "TbopnSeQq0tt",
        "colab_type": "text"
      },
      "cell_type": "markdown",
      "source": [
        "## 1.12 Defining Functions"
      ]
    },
    {
      "metadata": {
        "id": "-gjcUTtIq-6_",
        "colab_type": "code",
        "colab": {}
      },
      "cell_type": "code",
      "source": [
        "# Newton's method to approximate square root of a number\n",
        "def squareRoot(n):\n",
        "  \n",
        "  root = n/2\n",
        "  for k in range(20):\n",
        "    root = (1/2) * (root + n / root)\n",
        "    \n",
        "  return root"
      ],
      "execution_count": 0,
      "outputs": []
    },
    {
      "metadata": {
        "id": "4nHAvHxqr2sU",
        "colab_type": "code",
        "colab": {
          "base_uri": "https://localhost:8080/",
          "height": 34
        },
        "outputId": "fa94e079-7e18-400a-debc-d7a6aaf10ee7"
      },
      "cell_type": "code",
      "source": [
        "# this method is quite accurate\n",
        "print(\"%10.8f\"% (squareRoot(9)))"
      ],
      "execution_count": 91,
      "outputs": [
        {
          "output_type": "stream",
          "text": [
            "3.00000000\n"
          ],
          "name": "stdout"
        }
      ]
    },
    {
      "metadata": {
        "id": "tmkzkuyPr4LF",
        "colab_type": "code",
        "colab": {
          "base_uri": "https://localhost:8080/",
          "height": 34
        },
        "outputId": "09ebd6bb-defb-4e70-e256-0b86a94fc956"
      },
      "cell_type": "code",
      "source": [
        "targetString =\"methinks it is like a weasel\"\n",
        "len(targetString)"
      ],
      "execution_count": 96,
      "outputs": [
        {
          "output_type": "execute_result",
          "data": {
            "text/plain": [
              "28"
            ]
          },
          "metadata": {
            "tags": []
          },
          "execution_count": 96
        }
      ]
    },
    {
      "metadata": {
        "id": "6YXlh1u0ttBW",
        "colab_type": "code",
        "colab": {}
      },
      "cell_type": "code",
      "source": [
        "import random\n",
        "random.choice(\"abcdefghijklmnopqrstuvwxyz \")\n",
        "del random"
      ],
      "execution_count": 0,
      "outputs": []
    },
    {
      "metadata": {
        "id": "B0AaSQexs-Jy",
        "colab_type": "code",
        "colab": {}
      },
      "cell_type": "code",
      "source": [
        "def createRandomStringOfLength(n):\n",
        "  import random\n",
        "  alphabetPlusSpace = \"abcdefghijklmnopqrstuvwxyz \"\n",
        "  generatedString = \"\"\n",
        "  for _ in range(n):\n",
        "    generatedString += random.choice(alphabetPlusSpace)\n",
        "  return generatedString  "
      ],
      "execution_count": 0,
      "outputs": []
    },
    {
      "metadata": {
        "id": "ohK0BG-stwx_",
        "colab_type": "code",
        "colab": {
          "base_uri": "https://localhost:8080/",
          "height": 34
        },
        "outputId": "a8459d6a-bb19-4143-cd08-a4046f503082"
      },
      "cell_type": "code",
      "source": [
        "createRandomStringOfLength(28)"
      ],
      "execution_count": 132,
      "outputs": [
        {
          "output_type": "execute_result",
          "data": {
            "text/plain": [
              "'sgngigdeliialcnnfinlumnr jts'"
            ]
          },
          "metadata": {
            "tags": []
          },
          "execution_count": 132
        }
      ]
    },
    {
      "metadata": {
        "id": "HH2M9TMGu0XJ",
        "colab_type": "code",
        "colab": {}
      },
      "cell_type": "code",
      "source": [
        "def scoreRandomlyGeneratedString(generatedString, target=targetString):\n",
        "  maxScore = len(target)\n",
        "  score = 0\n",
        "  for i in range(len(target)):\n",
        "    if generatedString[i] == target[i]:\n",
        "      score += 1\n",
        "  return score"
      ],
      "execution_count": 0,
      "outputs": []
    },
    {
      "metadata": {
        "id": "1l5G7AUvwnZb",
        "colab_type": "code",
        "colab": {}
      },
      "cell_type": "code",
      "source": [
        "def infiniteMonkeyExperiment(maxIteration=10000, target=targetString):\n",
        "  iterationNumber = 1\n",
        "  maxScore = len(target)\n",
        "  done = False\n",
        "  while iterationNumber <= maxIteration and not done:\n",
        "    generatedString = createRandomStringOfLength(len(target))\n",
        "    score = scoreRandomlyGeneratedString(generatedString)\n",
        "    if score == maxScore:\n",
        "      done = True\n",
        "    if iterationNumber % 1000 == 0:\n",
        "      print(\"Iteration number is %d, and score is %d\" % (iterationNumber, score))\n",
        "    iterationNumber += 1\n",
        "  return done"
      ],
      "execution_count": 0,
      "outputs": []
    },
    {
      "metadata": {
        "id": "i0qGTt5tzba8",
        "colab_type": "code",
        "colab": {
          "base_uri": "https://localhost:8080/",
          "height": 204
        },
        "outputId": "f58dde4a-e9e1-49ec-e789-2e545116c78b"
      },
      "cell_type": "code",
      "source": [
        "infiniteMonkeyExperiment()"
      ],
      "execution_count": 120,
      "outputs": [
        {
          "output_type": "stream",
          "text": [
            "Iteration number is 1000, and score is 3\n",
            "Iteration number is 2000, and score is 2\n",
            "Iteration number is 3000, and score is 0\n",
            "Iteration number is 4000, and score is 0\n",
            "Iteration number is 5000, and score is 0\n",
            "Iteration number is 6000, and score is 0\n",
            "Iteration number is 7000, and score is 1\n",
            "Iteration number is 8000, and score is 1\n",
            "Iteration number is 9000, and score is 1\n",
            "Iteration number is 10000, and score is 0\n"
          ],
          "name": "stdout"
        },
        {
          "output_type": "execute_result",
          "data": {
            "text/plain": [
              "False"
            ]
          },
          "metadata": {
            "tags": []
          },
          "execution_count": 120
        }
      ]
    },
    {
      "metadata": {
        "id": "lZXjNoLa1A03",
        "colab_type": "code",
        "colab": {}
      },
      "cell_type": "code",
      "source": [
        "def hillClimbingExperiment(maxIterationNumber=10000, target=\"methinks it is like a weasel\"):\n",
        "  \n",
        "  import random\n",
        "  alphabetPlusSpace = \"abcdefghijklmnopqrstuvwxyz \"\n",
        "  maxScore = len(target)\n",
        "  listOfTargetString = list(target)\n",
        "  bestListOfStringSoFar = list(createRandomStringOfLength(len(target)))\n",
        "  score = scoreRandomlyGeneratedString(bestListOfStringSoFar)\n",
        "  iterationNumber = 1\n",
        "  \n",
        "  if score == maxScore:\n",
        "    done = True\n",
        "    print(\"The experiment ends in iteration %d\" % (iterationNumber))\n",
        "    return True\n",
        "  else:\n",
        "    done = False\n",
        "    \n",
        "  while iterationNumber <= maxIterationNumber and not done:\n",
        "    for i in range(maxScore):\n",
        "      if bestListOfStringSoFar[i] != listOfTargetString[i]:\n",
        "        bestListOfStringSoFar[i] = random.choice(alphabetPlusSpace)\n",
        "    score = scoreRandomlyGeneratedString(bestListOfStringSoFar)\n",
        "    if score == maxScore:\n",
        "      print(\"The experiment ends in iteration %d\" % (iterationNumber))\n",
        "      done = True\n",
        "      return done\n",
        "    iterationNumber += 1\n",
        "    if iterationNumber % 1000 == 0:\n",
        "      print(\"Iteration number: %d, best list of string so far: %s, score: %d\" % (iterationNumber, bestListOfStringSoFar, score))\n",
        "      \n",
        "  return done  "
      ],
      "execution_count": 0,
      "outputs": []
    },
    {
      "metadata": {
        "id": "fnam_e1K4h7M",
        "colab_type": "code",
        "colab": {
          "base_uri": "https://localhost:8080/",
          "height": 51
        },
        "outputId": "1a2d8b82-9bc3-4fbb-d398-ae43c4800cf7"
      },
      "cell_type": "code",
      "source": [
        "hillClimbingExperiment()"
      ],
      "execution_count": 141,
      "outputs": [
        {
          "output_type": "stream",
          "text": [
            "The experiment ends in iteration 66\n"
          ],
          "name": "stdout"
        },
        {
          "output_type": "execute_result",
          "data": {
            "text/plain": [
              "True"
            ]
          },
          "metadata": {
            "tags": []
          },
          "execution_count": 141
        }
      ]
    },
    {
      "metadata": {
        "id": "OlkLumLZ5RZZ",
        "colab_type": "code",
        "colab": {}
      },
      "cell_type": "code",
      "source": [
        "def hillClimbingExperiment2(maxIterationNumber=10000, target=\"methinks it is like a weasel\"):\n",
        "  \n",
        "  import random\n",
        "  alphabetPlusSpace = \"abcdefghijklmnopqrstuvwxyz \"\n",
        "  maxScore = len(target)\n",
        "  listOfTargetString = list(target)\n",
        "  bestListOfStringSoFar = list(createRandomStringOfLength(len(target)))\n",
        "  score = scoreRandomlyGeneratedString(bestListOfStringSoFar)\n",
        "  iterationNumber = 1\n",
        "  \n",
        "  if score == maxScore:\n",
        "    done = True\n",
        "    print(\"The experiment ends in iteration %d\" % (iterationNumber))\n",
        "    return True\n",
        "  else:\n",
        "    done = False\n",
        "    \n",
        "  while iterationNumber <= maxIterationNumber and not done:\n",
        "    \n",
        "    for i in range(maxScore):\n",
        "      \n",
        "      if bestListOfStringSoFar[i] != listOfTargetString[i]:\n",
        "        bestListOfStringSoFar[i] = random.choice(alphabetPlusSpace)\n",
        "        break\n",
        "    \n",
        "    score = scoreRandomlyGeneratedString(bestListOfStringSoFar)\n",
        "    \n",
        "    if score == maxScore:\n",
        "      print(\"The experiment ends in iteration %d\" % (iterationNumber))\n",
        "      done = True\n",
        "      return done\n",
        "    \n",
        "    iterationNumber += 1\n",
        "    \n",
        "    if iterationNumber % 1000 == 0:\n",
        "      print(\"Iteration number: %d, best list of string so far: %s, score: %d\" % (iterationNumber, bestListOfStringSoFar, score))\n",
        "      \n",
        "  return done  "
      ],
      "execution_count": 0,
      "outputs": []
    },
    {
      "metadata": {
        "id": "2hDRdjWV7LIz",
        "colab_type": "code",
        "colab": {
          "base_uri": "https://localhost:8080/",
          "height": 51
        },
        "outputId": "af506c03-e345-4cbb-e9aa-f48acd5a6e59"
      },
      "cell_type": "code",
      "source": [
        "hillClimbingExperiment2()"
      ],
      "execution_count": 143,
      "outputs": [
        {
          "output_type": "stream",
          "text": [
            "The experiment ends in iteration 703\n"
          ],
          "name": "stdout"
        },
        {
          "output_type": "execute_result",
          "data": {
            "text/plain": [
              "True"
            ]
          },
          "metadata": {
            "tags": []
          },
          "execution_count": 143
        }
      ]
    },
    {
      "metadata": {
        "id": "wpPn6BB97OBw",
        "colab_type": "text"
      },
      "cell_type": "markdown",
      "source": [
        "## 1.13 Object-Oriented Programming in Python: Defining Classes"
      ]
    },
    {
      "metadata": {
        "id": "W9D2949a73vI",
        "colab_type": "text"
      },
      "cell_type": "markdown",
      "source": [
        "### 1.13.1 A Fraction Class"
      ]
    },
    {
      "metadata": {
        "id": "rxTwobTJ76j8",
        "colab_type": "code",
        "colab": {}
      },
      "cell_type": "code",
      "source": [
        "class Fraction:\n",
        "  \n",
        "  # the constructor method is always called '__init__' in python\n",
        "  def __init__(self, top, bottom):\n",
        "    \n",
        "    self.numerator = top\n",
        "    self.denominator = bottom    "
      ],
      "execution_count": 0,
      "outputs": []
    },
    {
      "metadata": {
        "id": "eg1ReMky9M23",
        "colab_type": "code",
        "colab": {}
      },
      "cell_type": "code",
      "source": [
        "myFraction = Fraction(3, 5)"
      ],
      "execution_count": 0,
      "outputs": []
    },
    {
      "metadata": {
        "id": "jpLAR86RqQdo",
        "colab_type": "code",
        "colab": {
          "base_uri": "https://localhost:8080/",
          "height": 34
        },
        "outputId": "129872b5-38fe-4aac-852a-22918beaf51b"
      },
      "cell_type": "code",
      "source": [
        "print(myFraction)"
      ],
      "execution_count": 4,
      "outputs": [
        {
          "output_type": "stream",
          "text": [
            "<__main__.Fraction object at 0x7ff9ab5d98d0>\n"
          ],
          "name": "stdout"
        }
      ]
    },
    {
      "metadata": {
        "id": "2O8ybTqAqeOU",
        "colab_type": "code",
        "colab": {
          "base_uri": "https://localhost:8080/",
          "height": 34
        },
        "outputId": "d020cabb-d090-41a7-81d1-dfb029152b58"
      },
      "cell_type": "code",
      "source": [
        "print(myFraction)"
      ],
      "execution_count": 5,
      "outputs": [
        {
          "output_type": "stream",
          "text": [
            "<__main__.Fraction object at 0x7ff9ab5d98d0>\n"
          ],
          "name": "stdout"
        }
      ]
    },
    {
      "metadata": {
        "id": "uYrWhOnKTAjU",
        "colab_type": "code",
        "colab": {
          "base_uri": "https://localhost:8080/",
          "height": 34
        },
        "outputId": "c316f080-5e9c-4f2d-fd16-f881f68be199"
      },
      "cell_type": "code",
      "source": [
        "id(myFraction)"
      ],
      "execution_count": 6,
      "outputs": [
        {
          "output_type": "execute_result",
          "data": {
            "text/plain": [
              "140710298622160"
            ]
          },
          "metadata": {
            "tags": []
          },
          "execution_count": 6
        }
      ]
    },
    {
      "metadata": {
        "id": "beibl4tITGXR",
        "colab_type": "code",
        "colab": {}
      },
      "cell_type": "code",
      "source": [
        "class Fraction:\n",
        "  \n",
        "  # the constructor method is always called '__init__' in python\n",
        "  def __init__(self, top, bottom):\n",
        "    \n",
        "    self.numerator = top\n",
        "    self.denominator = bottom\n",
        "    \n",
        "  # customized show method\n",
        "  def show(self):\n",
        "    print(self.numerator, \"/\", self.denominator)"
      ],
      "execution_count": 0,
      "outputs": []
    },
    {
      "metadata": {
        "id": "j4F435_iT_XD",
        "colab_type": "code",
        "colab": {
          "base_uri": "https://localhost:8080/",
          "height": 34
        },
        "outputId": "a5f1b43d-1822-43dd-d7c0-aa40b09e99d1"
      },
      "cell_type": "code",
      "source": [
        "myFraction = Fraction(3, 5)\n",
        "myFraction.show()"
      ],
      "execution_count": 10,
      "outputs": [
        {
          "output_type": "stream",
          "text": [
            "3 / 5\n"
          ],
          "name": "stdout"
        }
      ]
    },
    {
      "metadata": {
        "id": "lKLMkIBDUDDB",
        "colab_type": "code",
        "colab": {
          "base_uri": "https://localhost:8080/",
          "height": 34
        },
        "outputId": "d4fb2cba-3b44-4c4e-b4e3-72adb32ad428"
      },
      "cell_type": "code",
      "source": [
        "print(myFraction)"
      ],
      "execution_count": 11,
      "outputs": [
        {
          "output_type": "stream",
          "text": [
            "<__main__.Fraction object at 0x7ff9ab579710>\n"
          ],
          "name": "stdout"
        }
      ]
    },
    {
      "metadata": {
        "id": "xwk_obfnUEr0",
        "colab_type": "code",
        "colab": {}
      },
      "cell_type": "code",
      "source": [
        "class Fraction:\n",
        "  \n",
        "  # the constructor method is always called '__init__' in python\n",
        "  def __init__(self, top, bottom):\n",
        "    \n",
        "    self.numerator = top\n",
        "    self.denominator = bottom\n",
        "    \n",
        "  # customized show method\n",
        "  def show(self):\n",
        "    print(self.numerator, \"/\", self.denominator)\n",
        "  \n",
        "  # override standard '__str__' method\n",
        "  def __str__(self):\n",
        "    return str(self.numerator) + \"/\" + str(self.denominator)"
      ],
      "execution_count": 0,
      "outputs": []
    },
    {
      "metadata": {
        "id": "U_ZVEuTTUv3c",
        "colab_type": "code",
        "colab": {
          "base_uri": "https://localhost:8080/",
          "height": 68
        },
        "outputId": "03ffbc83-fcda-4680-baf3-b20b19dd84d7"
      },
      "cell_type": "code",
      "source": [
        "myFraction = Fraction(3, 5)\n",
        "print(myFraction)\n",
        "print(\"I only like\", myFraction, \"of Andy Kim\")\n",
        "str(myFraction)"
      ],
      "execution_count": 13,
      "outputs": [
        {
          "output_type": "stream",
          "text": [
            "3/5\n",
            "I only like 3/5 of Andy Kim\n"
          ],
          "name": "stdout"
        },
        {
          "output_type": "execute_result",
          "data": {
            "text/plain": [
              "'3/5'"
            ]
          },
          "metadata": {
            "tags": []
          },
          "execution_count": 13
        }
      ]
    },
    {
      "metadata": {
        "id": "7IymjmlqU8rP",
        "colab_type": "code",
        "colab": {
          "base_uri": "https://localhost:8080/",
          "height": 198
        },
        "outputId": "cfbcbf98-6afe-4d37-b329-7d58e5c0009b"
      },
      "cell_type": "code",
      "source": [
        "f1 = Fraction(1, 4)\n",
        "f2 = Fraction(1, 2)\n",
        "f1 + f2"
      ],
      "execution_count": 14,
      "outputs": [
        {
          "output_type": "error",
          "ename": "TypeError",
          "evalue": "ignored",
          "traceback": [
            "\u001b[0;31m---------------------------------------------------------------------------\u001b[0m",
            "\u001b[0;31mTypeError\u001b[0m                                 Traceback (most recent call last)",
            "\u001b[0;32m<ipython-input-14-cd61b357ba62>\u001b[0m in \u001b[0;36m<module>\u001b[0;34m()\u001b[0m\n\u001b[1;32m      1\u001b[0m \u001b[0mf1\u001b[0m \u001b[0;34m=\u001b[0m \u001b[0mFraction\u001b[0m\u001b[0;34m(\u001b[0m\u001b[0;36m1\u001b[0m\u001b[0;34m,\u001b[0m \u001b[0;36m4\u001b[0m\u001b[0;34m)\u001b[0m\u001b[0;34m\u001b[0m\u001b[0;34m\u001b[0m\u001b[0m\n\u001b[1;32m      2\u001b[0m \u001b[0mf2\u001b[0m \u001b[0;34m=\u001b[0m \u001b[0mFraction\u001b[0m\u001b[0;34m(\u001b[0m\u001b[0;36m1\u001b[0m\u001b[0;34m,\u001b[0m \u001b[0;36m2\u001b[0m\u001b[0;34m)\u001b[0m\u001b[0;34m\u001b[0m\u001b[0;34m\u001b[0m\u001b[0m\n\u001b[0;32m----> 3\u001b[0;31m \u001b[0mf1\u001b[0m \u001b[0;34m+\u001b[0m \u001b[0mf2\u001b[0m\u001b[0;34m\u001b[0m\u001b[0;34m\u001b[0m\u001b[0m\n\u001b[0m",
            "\u001b[0;31mTypeError\u001b[0m: unsupported operand type(s) for +: 'Fraction' and 'Fraction'"
          ]
        }
      ]
    },
    {
      "metadata": {
        "id": "7RlzVAT3VHCb",
        "colab_type": "code",
        "colab": {}
      },
      "cell_type": "code",
      "source": [
        "class Fraction:\n",
        "  \n",
        "  # the constructor method is always called '__init__' in python\n",
        "  def __init__(self, top, bottom):\n",
        "    \n",
        "    self.numerator = top\n",
        "    self.denominator = bottom\n",
        "    \n",
        "  # customized show method\n",
        "  def show(self):\n",
        "    print(self.numerator, \"/\", self.denominator)\n",
        "  \n",
        "  # override standard '__str__' method\n",
        "  def __str__(self):\n",
        "    return str(self.numerator) + \"/\" + str(self.denominator)\n",
        "  \n",
        "  # override standard addition method\n",
        "  def __add__(self, otherFraction):\n",
        "    newTop = self.numerator * otherFraction.denominator + otherFraction.numerator * self.denominator\n",
        "    newBottom = self.denominator * otherFraction.denominator\n",
        "    \n",
        "    return Fraction(newTop, newBottom)"
      ],
      "execution_count": 0,
      "outputs": []
    },
    {
      "metadata": {
        "id": "hxyqKw5DWQlm",
        "colab_type": "code",
        "colab": {
          "base_uri": "https://localhost:8080/",
          "height": 34
        },
        "outputId": "46aef046-10b1-4430-d79d-0a5080d52817"
      },
      "cell_type": "code",
      "source": [
        "f1 = Fraction(1, 4)\n",
        "f2 = Fraction(1, 2)\n",
        "f3 = f1 + f2\n",
        "print(f3)"
      ],
      "execution_count": 18,
      "outputs": [
        {
          "output_type": "stream",
          "text": [
            "6/8\n"
          ],
          "name": "stdout"
        }
      ]
    },
    {
      "metadata": {
        "id": "2uJICesiWVDi",
        "colab_type": "code",
        "colab": {}
      },
      "cell_type": "code",
      "source": [
        "def gcd(m,n):\n",
        "  while m % n != 0:\n",
        "    oldM = m\n",
        "    oldN = n\n",
        "    \n",
        "    m = oldN\n",
        "    n = oldM % oldN\n",
        "    \n",
        "  return n\n",
        "\n",
        "\n",
        "class Fraction:\n",
        "  \n",
        "  # the constructor method is always called '__init__' in python\n",
        "  def __init__(self, top, bottom):\n",
        "    \n",
        "    self.numerator = top\n",
        "    self.denominator = bottom\n",
        "    \n",
        "  # customized show method\n",
        "  def show(self):\n",
        "    print(self.numerator, \"/\", self.denominator)\n",
        "  \n",
        "  # override standard '__str__' method: in lowest forms\n",
        "  def __str__(self):\n",
        "    common = gcd(self.numerator, self.denominator)\n",
        "    return str(int(self.numerator / common)) + \"/\" + str(int(self.denominator / common))\n",
        "  \n",
        "  # override standard addition method\n",
        "  def __add__(self, otherFraction):\n",
        "    newTop = self.numerator * otherFraction.denominator + otherFraction.numerator * self.denominator\n",
        "    newBottom = self.denominator * otherFraction.denominator\n",
        "    \n",
        "    return Fraction(newTop, newBottom)"
      ],
      "execution_count": 0,
      "outputs": []
    },
    {
      "metadata": {
        "id": "X4XKPB6zYoXH",
        "colab_type": "code",
        "colab": {
          "base_uri": "https://localhost:8080/",
          "height": 34
        },
        "outputId": "a0f72008-f3be-486d-c65d-bc5e1eff9562"
      },
      "cell_type": "code",
      "source": [
        "f1 = Fraction(1, 4)\n",
        "f2 = Fraction(1, 2)\n",
        "f3 = f1 + f2\n",
        "print(f3)"
      ],
      "execution_count": 24,
      "outputs": [
        {
          "output_type": "stream",
          "text": [
            "3/4\n"
          ],
          "name": "stdout"
        }
      ]
    },
    {
      "metadata": {
        "id": "c_JvFsgKYv30",
        "colab_type": "text"
      },
      "cell_type": "markdown",
      "source": [
        "* shallow equality / deep equality"
      ]
    },
    {
      "metadata": {
        "id": "R2SrG__gZOzd",
        "colab_type": "code",
        "colab": {}
      },
      "cell_type": "code",
      "source": [
        "def gcd(m,n):\n",
        "  while m % n != 0:\n",
        "    oldM = m\n",
        "    oldN = n\n",
        "    \n",
        "    m = oldN\n",
        "    n = oldM % oldN\n",
        "    \n",
        "  return n\n",
        "\n",
        "\n",
        "class Fraction:\n",
        "  \n",
        "  # the constructor method is always called '__init__' in python\n",
        "  def __init__(self, top, bottom):\n",
        "    \n",
        "    self.numerator = top\n",
        "    self.denominator = bottom\n",
        "    \n",
        "  # customized show method\n",
        "  def show(self):\n",
        "    print(self.numerator, \"/\", self.denominator)\n",
        "  \n",
        "  # override standard '__str__' method: in lowest forms\n",
        "  def __str__(self):\n",
        "    common = gcd(self.numerator, self.denominator)\n",
        "    return str(int(self.numerator / common)) + \"/\" + str(int(self.denominator / common))\n",
        "  \n",
        "  # override standard addition method\n",
        "  def __add__(self, otherFraction):\n",
        "    newTop = self.numerator * otherFraction.denominator + otherFraction.numerator * self.denominator\n",
        "    newBottom = self.denominator * otherFraction.denominator\n",
        "    \n",
        "    return Fraction(newTop, newBottom)\n",
        "  \n",
        "  # implement deep equality by overriding standard equality method\n",
        "  def __eq__(self, otherFraction):\n",
        "    \n",
        "    return self.numerator * otherFraction.denominator == self.denominator * otherFraction.numerator"
      ],
      "execution_count": 0,
      "outputs": []
    },
    {
      "metadata": {
        "id": "-0o54qrsZrqs",
        "colab_type": "code",
        "colab": {
          "base_uri": "https://localhost:8080/",
          "height": 51
        },
        "outputId": "728bdea2-c5b5-4085-f1cd-b728bf923ef1"
      },
      "cell_type": "code",
      "source": [
        "x = Fraction(1,2)\n",
        "y = Fraction(2,3)\n",
        "print(x+y)\n",
        "print(x == y)"
      ],
      "execution_count": 26,
      "outputs": [
        {
          "output_type": "stream",
          "text": [
            "7/6\n",
            "False\n"
          ],
          "name": "stdout"
        }
      ]
    },
    {
      "metadata": {
        "id": "byFTGWZiZxP2",
        "colab_type": "code",
        "colab": {}
      },
      "cell_type": "code",
      "source": [
        "def gcd(m,n):\n",
        "  while m % n != 0:\n",
        "    oldM = m\n",
        "    oldN = n\n",
        "    \n",
        "    m = oldN\n",
        "    n = oldM % oldN\n",
        "    \n",
        "  return n\n",
        "\n",
        "\n",
        "class Fraction:\n",
        "  \n",
        "  # the constructor method is always called '__init__' in python\n",
        "  def __init__(self, top, bottom):\n",
        "    \n",
        "    self.numerator = top\n",
        "    self.denominator = bottom\n",
        "    \n",
        "  # customized show method\n",
        "  def show(self):\n",
        "    print(self.numerator, \"/\", self.denominator)\n",
        "  \n",
        "  # override standard '__str__' method: in lowest forms\n",
        "  def __str__(self):\n",
        "    common = gcd(self.numerator, self.denominator)\n",
        "    return str(int(self.numerator / common)) + \"/\" + str(int(self.denominator / common))\n",
        "  \n",
        "  # override standard addition method\n",
        "  def __add__(self, otherFraction):\n",
        "    newTop = self.numerator * otherFraction.denominator + otherFraction.numerator * self.denominator\n",
        "    newBottom = self.denominator * otherFraction.denominator\n",
        "    \n",
        "    return Fraction(newTop, newBottom)\n",
        "  \n",
        "  # implement deep equality by overriding standard equality method\n",
        "  def __eq__(self, otherFraction):\n",
        "    \n",
        "    return self.numerator * otherFraction.denominator == self.denominator * otherFraction.numerator\n",
        "  \n",
        "  # implement '*', '/', and '-' operation for our Fraction class\n",
        "  def __mul__(self, other):\n",
        "    return Fraction(self.numerator * other.numerator, self.denominator * other.denominator)\n",
        "  \n",
        "  def __div__(self, other):\n",
        "    return Fraction(self.numerator * other.denominator, self.denominator * other.numerator)\n",
        "  \n",
        "  def __sub__(self, other):\n",
        "    return Fraction(self.numerator * otherFraction.denominator - otherFraction.numerator * self.denominator, self.denominator * other.denominator)\n",
        "  \n",
        "  # implement logical operators '>', '<', '>=', and '<='\n",
        "  def __gt__(self, other):\n",
        "    return self.numerator * other.denominator - other.numerator * self.denominator > 0\n",
        "  \n",
        "  def __lt__(self, other):\n",
        "    return self.numerator * other.denominator - other.numerator * self.denominator < 0\n",
        "  \n",
        "  def __ge__(self, other):\n",
        "    return self.numerator * other.denominator - other.numerator * self.denominator >= 0\n",
        "\n",
        "  def __le__(self, other):\n",
        "    return self.numerator * other.denominator - other.numerator * self.denominator <= 0  "
      ],
      "execution_count": 0,
      "outputs": []
    },
    {
      "metadata": {
        "id": "4FgLfePIbugM",
        "colab_type": "code",
        "colab": {
          "base_uri": "https://localhost:8080/",
          "height": 34
        },
        "outputId": "79c5644f-ba26-4c36-8a7f-19b350f1db62"
      },
      "cell_type": "code",
      "source": [
        "f1 = Fraction(1, 3)\n",
        "f2 = Fraction(2, 5)\n",
        "print(f1 > f2)"
      ],
      "execution_count": 31,
      "outputs": [
        {
          "output_type": "stream",
          "text": [
            "False\n"
          ],
          "name": "stdout"
        }
      ]
    },
    {
      "metadata": {
        "id": "VzTMHaFlb1zE",
        "colab_type": "code",
        "colab": {
          "base_uri": "https://localhost:8080/",
          "height": 34
        },
        "outputId": "6034e156-068b-4043-d1ae-39d69f4e3823"
      },
      "cell_type": "code",
      "source": [
        "f1 <= f2"
      ],
      "execution_count": 32,
      "outputs": [
        {
          "output_type": "execute_result",
          "data": {
            "text/plain": [
              "True"
            ]
          },
          "metadata": {
            "tags": []
          },
          "execution_count": 32
        }
      ]
    },
    {
      "metadata": {
        "id": "jpWhP7Psb81g",
        "colab_type": "text"
      },
      "cell_type": "markdown",
      "source": [
        "### 1.13.2 Inheritance: Logic Gates and Circuits"
      ]
    },
    {
      "metadata": {
        "id": "XNSyT45O-UNk",
        "colab_type": "code",
        "colab": {}
      },
      "cell_type": "code",
      "source": [
        "class LogicGate:\n",
        "  \n",
        "  def __init__(self, n):\n",
        "    self.label = n\n",
        "    self.output = None\n",
        "    \n",
        "  def getLabel(self):\n",
        "    return self.label\n",
        "  \n",
        "  def getOutput(self):\n",
        "    self.output = self.performGateLogic()\n",
        "    return self.output"
      ],
      "execution_count": 0,
      "outputs": []
    },
    {
      "metadata": {
        "id": "j7BDJLI8-yF4",
        "colab_type": "code",
        "colab": {}
      },
      "cell_type": "code",
      "source": [
        "class BinaryGate(LogicGate):\n",
        "  \n",
        "  def __init__(self, n):\n",
        "    LogicGate.__init__(self, n)\n",
        "    \n",
        "    self.pinA = None\n",
        "    self.pinB = None\n",
        "    \n",
        "  \n",
        "  def getPinA(self):\n",
        "    if self.pinA == None:\n",
        "      return int(input(\"Enter Pin A for gate \" + self.getLabel() + \"-->\"))\n",
        "    else:\n",
        "      return self.pinA.fromgate.getOutput()\n",
        "    \n",
        "  def getPinB(self):\n",
        "    if self.pinB == None:\n",
        "      return int(input(\"Enter Pin B for gate \" + self.getLabel() + \"-->\"))\n",
        "    else:\n",
        "      return self.pinB.fromgate.getOutput()\n"
      ],
      "execution_count": 0,
      "outputs": []
    },
    {
      "metadata": {
        "id": "OpBQSYpzACLr",
        "colab_type": "code",
        "colab": {}
      },
      "cell_type": "code",
      "source": [
        "class UnaryGate(LogicGate):\n",
        "\n",
        "  def __init__(self,n):\n",
        "    LogicGate.__init__(self,n)\n",
        "\n",
        "    self.pin = None\n",
        "\n",
        "  def getPin(self):\n",
        "    if self.pin == None:\n",
        "      return int(input(\"Enter Pin for gate \" + self.getLabel() + \"-->\"))\n",
        "    else:\n",
        "      return self.pin.fromgate.getOutput()\n"
      ],
      "execution_count": 0,
      "outputs": []
    },
    {
      "metadata": {
        "id": "CybqPCzNAEtK",
        "colab_type": "code",
        "colab": {}
      },
      "cell_type": "code",
      "source": [
        "class AndGate(BinaryGate):\n",
        "\n",
        "    def __init__(self,n):\n",
        "        BinaryGate.__init__(self,n)\n",
        "\n",
        "    def performGateLogic(self):\n",
        "\n",
        "        a = self.getPinA()\n",
        "        b = self.getPinB()\n",
        "        if a==1 and b==1:\n",
        "            return 1\n",
        "        else:\n",
        "            return 0\n",
        "          \n",
        "    def setNextPin(self,source):\n",
        "      if self.pinA == None:\n",
        "          self.pinA = source\n",
        "      else:\n",
        "          if self.pinB == None:\n",
        "              self.pinB = source\n",
        "          else:\n",
        "             raise RuntimeError(\"Error: NO EMPTY PINS\")"
      ],
      "execution_count": 0,
      "outputs": []
    },
    {
      "metadata": {
        "id": "BVkN1BluBLcs",
        "colab_type": "code",
        "colab": {
          "base_uri": "https://localhost:8080/",
          "height": 68
        },
        "outputId": "da46eba4-5fb4-4475-f4e1-bf120b681bbd"
      },
      "cell_type": "code",
      "source": [
        "g1 = AndGate(\"G1\")\n",
        "g1.getOutput()"
      ],
      "execution_count": 86,
      "outputs": [
        {
          "output_type": "stream",
          "text": [
            "Enter Pin A for gate G1-->1\n",
            "Enter Pin B for gate G1-->1\n"
          ],
          "name": "stdout"
        },
        {
          "output_type": "execute_result",
          "data": {
            "text/plain": [
              "1"
            ]
          },
          "metadata": {
            "tags": []
          },
          "execution_count": 86
        }
      ]
    },
    {
      "metadata": {
        "id": "VFjPgt3ABf3I",
        "colab_type": "code",
        "colab": {}
      },
      "cell_type": "code",
      "source": [
        "class OrGate(BinaryGate):\n",
        "\n",
        "    def __init__(self,n):\n",
        "        BinaryGate.__init__(self,n)\n",
        "\n",
        "    def performGateLogic(self):\n",
        "\n",
        "        a = self.getPinA()\n",
        "        b = self.getPinB()\n",
        "        \n",
        "        if a==1 or b==1:\n",
        "            return 1\n",
        "        else:\n",
        "            return 0\n",
        "          \n",
        "    def setNextPin(self,source):\n",
        "      if self.pinA == None:\n",
        "          self.pinA = source\n",
        "      else:\n",
        "          if self.pinB == None:\n",
        "              self.pinB = source\n",
        "          else:\n",
        "             raise RuntimeError(\"Error: NO EMPTY PINS\")"
      ],
      "execution_count": 0,
      "outputs": []
    },
    {
      "metadata": {
        "id": "lH_2RAh3B_33",
        "colab_type": "code",
        "colab": {}
      },
      "cell_type": "code",
      "source": [
        "class NotGate(UnaryGate):\n",
        "\n",
        "    def __init__(self,n):\n",
        "        UnaryGate.__init__(self,n)\n",
        "\n",
        "    def performGateLogic(self):\n",
        "\n",
        "        a = self.getPin()\n",
        "        if a==0:\n",
        "            return 1\n",
        "        else:\n",
        "            return 0\n",
        "          \n",
        "    def setNextPin(self,source):\n",
        "      if self.pin == None:\n",
        "          self.pin = source\n",
        "      else:\n",
        "        raise RuntimeError(\"Error: NO EMPTY PIN\")"
      ],
      "execution_count": 0,
      "outputs": []
    },
    {
      "metadata": {
        "id": "W9apdNgUCJbf",
        "colab_type": "code",
        "colab": {}
      },
      "cell_type": "code",
      "source": [
        "g2 = OrGate(\"G2\")"
      ],
      "execution_count": 0,
      "outputs": []
    },
    {
      "metadata": {
        "id": "8EEnihmYCMr7",
        "colab_type": "code",
        "colab": {
          "base_uri": "https://localhost:8080/",
          "height": 68
        },
        "outputId": "48aafdcb-dc52-4f95-b60c-515a11c37634"
      },
      "cell_type": "code",
      "source": [
        "g2.getOutput()"
      ],
      "execution_count": 90,
      "outputs": [
        {
          "output_type": "stream",
          "text": [
            "Enter Pin A for gate G2-->1\n",
            "Enter Pin B for gate G2-->0\n"
          ],
          "name": "stdout"
        },
        {
          "output_type": "execute_result",
          "data": {
            "text/plain": [
              "1"
            ]
          },
          "metadata": {
            "tags": []
          },
          "execution_count": 90
        }
      ]
    },
    {
      "metadata": {
        "id": "O25XHf2BCQKA",
        "colab_type": "code",
        "colab": {
          "base_uri": "https://localhost:8080/",
          "height": 51
        },
        "outputId": "ac5c2740-111d-40d7-96ad-66e2b6199a59"
      },
      "cell_type": "code",
      "source": [
        "g3 = NotGate(\"G3\")\n",
        "g3.getOutput()"
      ],
      "execution_count": 92,
      "outputs": [
        {
          "output_type": "stream",
          "text": [
            "Enter Pin for gate G3-->0\n"
          ],
          "name": "stdout"
        },
        {
          "output_type": "execute_result",
          "data": {
            "text/plain": [
              "1"
            ]
          },
          "metadata": {
            "tags": []
          },
          "execution_count": 92
        }
      ]
    },
    {
      "metadata": {
        "id": "Eyp07G49CX4B",
        "colab_type": "code",
        "colab": {}
      },
      "cell_type": "code",
      "source": [
        "class Connector:\n",
        "\n",
        "    def __init__(self, fgate, tgate):\n",
        "        self.fromgate = fgate\n",
        "        self.togate = tgate\n",
        "\n",
        "        tgate.setNextPin(self)\n",
        "\n",
        "    def getFrom(self):\n",
        "        return self.fromgate\n",
        "\n",
        "    def getTo(self):\n",
        "        return self.togate"
      ],
      "execution_count": 0,
      "outputs": []
    },
    {
      "metadata": {
        "id": "pBaej0SeEZHh",
        "colab_type": "code",
        "colab": {}
      },
      "cell_type": "code",
      "source": [
        "class NandGate(BinaryGate):\n",
        "\n",
        "    def __init__(self,n):\n",
        "        BinaryGate.__init__(self,n)\n",
        "\n",
        "    def performGateLogic(self):\n",
        "\n",
        "        a = self.getPinA()\n",
        "        b = self.getPinB()\n",
        "        if a==1 and b==1:\n",
        "            return 0\n",
        "        else:\n",
        "            return 1\n",
        "          \n",
        "    def setNextPin(self,source):\n",
        "      if self.pinA == None:\n",
        "          self.pinA = source\n",
        "      else:\n",
        "          if self.pinB == None:\n",
        "              self.pinB = source\n",
        "          else:\n",
        "             raise RuntimeError(\"Error: NO EMPTY PINS\")"
      ],
      "execution_count": 0,
      "outputs": []
    },
    {
      "metadata": {
        "id": "I6Aua3yZGj0Y",
        "colab_type": "code",
        "colab": {}
      },
      "cell_type": "code",
      "source": [
        "class NorGate(BinaryGate):\n",
        "\n",
        "    def __init__(self,n):\n",
        "        BinaryGate.__init__(self,n)\n",
        "\n",
        "    def performGateLogic(self):\n",
        "\n",
        "        a = self.getPinA()\n",
        "        b = self.getPinB()\n",
        "        if a==1 or b==1:\n",
        "            return 0\n",
        "        else:\n",
        "            return 1\n",
        "          \n",
        "    def setNextPin(self,source):\n",
        "      if self.pinA == None:\n",
        "          self.pinA = source\n",
        "      else:\n",
        "          if self.pinB == None:\n",
        "              self.pinB = source\n",
        "          else:\n",
        "             raise RuntimeError(\"Error: NO EMPTY PINS\")"
      ],
      "execution_count": 0,
      "outputs": []
    },
    {
      "metadata": {
        "id": "ifHy1Pz_Gqqn",
        "colab_type": "code",
        "colab": {}
      },
      "cell_type": "code",
      "source": [
        "g1 = AndGate(\"G1\")\n",
        "g2 = AndGate(\"G2\")\n",
        "g3 = OrGate(\"G3\")\n",
        "g4 = NotGate(\"G4\")\n",
        "c1 = Connector(g1, g3)\n",
        "c2 = Connector(g2, g3)\n",
        "c3 = Connector(g3, g4)"
      ],
      "execution_count": 0,
      "outputs": []
    },
    {
      "metadata": {
        "id": "PP_RzgRkHOkQ",
        "colab_type": "code",
        "colab": {
          "base_uri": "https://localhost:8080/",
          "height": 102
        },
        "outputId": "9d3bab12-6c3e-4374-eead-c4b2fbc71af1"
      },
      "cell_type": "code",
      "source": [
        "g4.getOutput()"
      ],
      "execution_count": 97,
      "outputs": [
        {
          "output_type": "stream",
          "text": [
            "Enter Pin A for gate G1-->1\n",
            "Enter Pin B for gate G1-->0\n",
            "Enter Pin A for gate G2-->1\n",
            "Enter Pin B for gate G2-->0\n"
          ],
          "name": "stdout"
        },
        {
          "output_type": "execute_result",
          "data": {
            "text/plain": [
              "1"
            ]
          },
          "metadata": {
            "tags": []
          },
          "execution_count": 97
        }
      ]
    },
    {
      "metadata": {
        "id": "WXQJTB7pKTM7",
        "colab_type": "code",
        "colab": {}
      },
      "cell_type": "code",
      "source": [
        "g1 = AndGate(\"G1\")\n",
        "g2 = NotGate(\"G2\")\n",
        "g3 = AndGate(\"G3\")\n",
        "g4 = NotGate(\"G4\")\n",
        "g5 = AndGate(\"G5\")\n",
        "c1 = Connector(g1, g2)\n",
        "c2 = Connector(g3, g4)\n",
        "c3 = Connector(g2, g5)\n",
        "c4 = Connector(g4, g5)"
      ],
      "execution_count": 0,
      "outputs": []
    },
    {
      "metadata": {
        "id": "Ua9qOPooKTBl",
        "colab_type": "code",
        "colab": {
          "base_uri": "https://localhost:8080/",
          "height": 102
        },
        "outputId": "f6078139-46fa-4c39-8229-5484e8626efb"
      },
      "cell_type": "code",
      "source": [
        "g5.getOutput()"
      ],
      "execution_count": 99,
      "outputs": [
        {
          "output_type": "stream",
          "text": [
            "Enter Pin A for gate G1-->1\n",
            "Enter Pin B for gate G1-->0\n",
            "Enter Pin A for gate G3-->1\n",
            "Enter Pin B for gate G3-->0\n"
          ],
          "name": "stdout"
        },
        {
          "output_type": "execute_result",
          "data": {
            "text/plain": [
              "1"
            ]
          },
          "metadata": {
            "tags": []
          },
          "execution_count": 99
        }
      ]
    }
  ]
}