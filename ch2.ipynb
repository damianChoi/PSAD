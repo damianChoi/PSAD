{
  "nbformat": 4,
  "nbformat_minor": 0,
  "metadata": {
    "colab": {
      "name": "ch2.ipynb",
      "version": "0.3.2",
      "provenance": [],
      "collapsed_sections": [],
      "include_colab_link": true
    },
    "kernelspec": {
      "name": "python3",
      "display_name": "Python 3"
    }
  },
  "cells": [
    {
      "cell_type": "markdown",
      "metadata": {
        "id": "view-in-github",
        "colab_type": "text"
      },
      "source": [
        "<a href=\"https://colab.research.google.com/github/damianChoi/PSAD/blob/master/ch2.ipynb\" target=\"_parent\"><img src=\"https://colab.research.google.com/assets/colab-badge.svg\" alt=\"Open In Colab\"/></a>"
      ]
    },
    {
      "metadata": {
        "id": "FipFg-MXg0bj",
        "colab_type": "text"
      },
      "cell_type": "markdown",
      "source": [
        "# 2.1 Objectives"
      ]
    },
    {
      "metadata": {
        "id": "LFJ-PkmahMWh",
        "colab_type": "text"
      },
      "cell_type": "markdown",
      "source": [
        "# 2.2 What is Algorithm Analysis?"
      ]
    },
    {
      "metadata": {
        "id": "EMRgkNiihRGw",
        "colab_type": "code",
        "outputId": "9526b1bc-e121-4036-b3ce-f356b9ab55f0",
        "colab": {
          "base_uri": "https://localhost:8080/",
          "height": 34
        }
      },
      "cell_type": "code",
      "source": [
        "def sumOfN(n):\n",
        "  theSum = 0\n",
        "  for i in range(1, n+1):\n",
        "    theSum += i\n",
        "  \n",
        "  return theSum\n",
        "\n",
        "print(sumOfN(10))"
      ],
      "execution_count": 0,
      "outputs": [
        {
          "output_type": "stream",
          "text": [
            "55\n"
          ],
          "name": "stdout"
        }
      ]
    },
    {
      "metadata": {
        "id": "4legT9JKmDNr",
        "colab_type": "code",
        "outputId": "fd527d62-b518-4f74-d4a8-55d3d13bf360",
        "colab": {
          "base_uri": "https://localhost:8080/",
          "height": 34
        }
      },
      "cell_type": "code",
      "source": [
        "def foo(tom):\n",
        "  fred = 0\n",
        "  for bill in range(1,tom+1):\n",
        "    barney = bill\n",
        "    fred = fred + barney\n",
        "\n",
        "  return fred\n",
        "\n",
        "print(foo(10))"
      ],
      "execution_count": 0,
      "outputs": [
        {
          "output_type": "stream",
          "text": [
            "55\n"
          ],
          "name": "stdout"
        }
      ]
    },
    {
      "metadata": {
        "id": "UZ2H_OLLqBo2",
        "colab_type": "code",
        "colab": {}
      },
      "cell_type": "code",
      "source": [
        "import time\n",
        "\n",
        "def sumOfN2(n):\n",
        "  start = time.time()\n",
        "  \n",
        "  theSum = 0\n",
        "  for i in range(1, n+1):\n",
        "    theSum += i\n",
        "    \n",
        "  end = time.time()\n",
        "  \n",
        "  return theSum, end-start"
      ],
      "execution_count": 0,
      "outputs": []
    },
    {
      "metadata": {
        "id": "vEGZ_sXprDye",
        "colab_type": "code",
        "outputId": "003b72ea-7c09-4482-a675-0390f685fcfc",
        "colab": {
          "base_uri": "https://localhost:8080/",
          "height": 102
        }
      },
      "cell_type": "code",
      "source": [
        "for _ in range(5):\n",
        "  print(\"Sum is %d required %10.7f seconds\" % sumOfN2(10000))"
      ],
      "execution_count": 0,
      "outputs": [
        {
          "output_type": "stream",
          "text": [
            "Sum is 50005000 required  0.0008109 seconds\n",
            "Sum is 50005000 required  0.0011964 seconds\n",
            "Sum is 50005000 required  0.0010586 seconds\n",
            "Sum is 50005000 required  0.0016963 seconds\n",
            "Sum is 50005000 required  0.0010149 seconds\n"
          ],
          "name": "stdout"
        }
      ]
    },
    {
      "metadata": {
        "id": "Xck7CGcBrcbP",
        "colab_type": "code",
        "outputId": "de7dc2b5-d5f5-4784-ab57-a0a0d9d713c2",
        "colab": {
          "base_uri": "https://localhost:8080/",
          "height": 102
        }
      },
      "cell_type": "code",
      "source": [
        "for _ in range(5):\n",
        "  print(\"Sum is %d required %10.7f seconds\" % sumOfN2(100000))"
      ],
      "execution_count": 0,
      "outputs": [
        {
          "output_type": "stream",
          "text": [
            "Sum is 5000050000 required  0.0122616 seconds\n",
            "Sum is 5000050000 required  0.0095034 seconds\n",
            "Sum is 5000050000 required  0.0082781 seconds\n",
            "Sum is 5000050000 required  0.0071888 seconds\n",
            "Sum is 5000050000 required  0.0076673 seconds\n"
          ],
          "name": "stdout"
        }
      ]
    },
    {
      "metadata": {
        "id": "2KG8T0PNrndZ",
        "colab_type": "code",
        "outputId": "9d44a460-c012-4c49-c09b-1f73dacd4586",
        "colab": {
          "base_uri": "https://localhost:8080/",
          "height": 102
        }
      },
      "cell_type": "code",
      "source": [
        "for _ in range(5):\n",
        "  print(\"Sum is %d required %10.7f seconds\" % sumOfN2(1000000))"
      ],
      "execution_count": 0,
      "outputs": [
        {
          "output_type": "stream",
          "text": [
            "Sum is 500000500000 required  0.0829170 seconds\n",
            "Sum is 500000500000 required  0.0722156 seconds\n",
            "Sum is 500000500000 required  0.0750647 seconds\n",
            "Sum is 500000500000 required  0.0757997 seconds\n",
            "Sum is 500000500000 required  0.0767841 seconds\n"
          ],
          "name": "stdout"
        }
      ]
    },
    {
      "metadata": {
        "id": "0b-fx5HTrvqN",
        "colab_type": "code",
        "colab": {}
      },
      "cell_type": "code",
      "source": [
        "def sumOfN3(n):\n",
        "  start = time.time()\n",
        "  theSum = n*(n+1)/2\n",
        "  end = time.time()\n",
        "  return theSum, end-start"
      ],
      "execution_count": 0,
      "outputs": []
    },
    {
      "metadata": {
        "id": "4bM5APpVr5SB",
        "colab_type": "code",
        "outputId": "b84a37df-2717-48fd-d70d-0f5c085faede",
        "colab": {
          "base_uri": "https://localhost:8080/",
          "height": 102
        }
      },
      "cell_type": "code",
      "source": [
        "for i in range(5):\n",
        "  print(\"Sum is %d required %10.7f seconds\" % sumOfN3(10**(i+4)))"
      ],
      "execution_count": 0,
      "outputs": [
        {
          "output_type": "stream",
          "text": [
            "Sum is 50005000 required  0.0000012 seconds\n",
            "Sum is 5000050000 required  0.0000005 seconds\n",
            "Sum is 500000500000 required  0.0000005 seconds\n",
            "Sum is 50000005000000 required  0.0000002 seconds\n",
            "Sum is 5000000050000000 required  0.0000010 seconds\n"
          ],
          "name": "stdout"
        }
      ]
    },
    {
      "metadata": {
        "id": "bwmZv5IzsLpp",
        "colab_type": "text"
      },
      "cell_type": "markdown",
      "source": [
        "# 2.3 Big-O Notation"
      ]
    },
    {
      "metadata": {
        "id": "7hZ-ZQtvs89L",
        "colab_type": "code",
        "colab": {}
      },
      "cell_type": "code",
      "source": [
        "def findMin(list):\n",
        "  overallMin = list[0]\n",
        "  for i in list:\n",
        "    isSmallest = True\n",
        "    for j in list:\n",
        "      if i > j:\n",
        "        isSmallest = False\n",
        "    if isSmallest:\n",
        "      overallMin = i\n",
        "      \n",
        "  return overallMin"
      ],
      "execution_count": 0,
      "outputs": []
    },
    {
      "metadata": {
        "id": "CkomK3TIyl8k",
        "colab_type": "code",
        "outputId": "b43da30f-cdba-421b-f8d6-3691603edc53",
        "colab": {
          "base_uri": "https://localhost:8080/",
          "height": 34
        }
      },
      "cell_type": "code",
      "source": [
        "findMin([4, 2, 1, 3])"
      ],
      "execution_count": 0,
      "outputs": [
        {
          "output_type": "execute_result",
          "data": {
            "text/plain": [
              "1"
            ]
          },
          "metadata": {
            "tags": []
          },
          "execution_count": 19
        }
      ]
    },
    {
      "metadata": {
        "id": "hXzBfQLR5zBt",
        "colab_type": "code",
        "outputId": "1206705b-0afd-4abf-dda9-c340d6667741",
        "colab": {
          "base_uri": "https://localhost:8080/",
          "height": 187
        }
      },
      "cell_type": "code",
      "source": [
        "from random import randrange\n",
        "for listSize in range(1000, 10001, 1000):\n",
        "  alist = [randrange(100000) for x in range(listSize)]\n",
        "  start = time.time()\n",
        "  findMin(alist)\n",
        "  end = time.time()\n",
        "  print(\"size: %d, time: %f\" % (listSize, end-start))"
      ],
      "execution_count": 0,
      "outputs": [
        {
          "output_type": "stream",
          "text": [
            "size: 1000, time: 0.065935\n",
            "size: 2000, time: 0.244398\n",
            "size: 3000, time: 0.538254\n",
            "size: 4000, time: 0.965396\n",
            "size: 5000, time: 1.483059\n",
            "size: 6000, time: 2.127683\n",
            "size: 7000, time: 2.906996\n",
            "size: 8000, time: 3.876258\n",
            "size: 9000, time: 4.902811\n",
            "size: 10000, time: 6.045754\n"
          ],
          "name": "stdout"
        }
      ]
    },
    {
      "metadata": {
        "id": "Gz7tP9Z0ypov",
        "colab_type": "code",
        "colab": {}
      },
      "cell_type": "code",
      "source": [
        "def findMin(list, i=0):\n",
        "  minSoFar = list[i]\n",
        "  for j in range(i, len(list)):\n",
        "    if minSoFar > list[j]:\n",
        "      return findMin(list, i=j)\n",
        "    \n",
        "  return minSoFar"
      ],
      "execution_count": 0,
      "outputs": []
    },
    {
      "metadata": {
        "id": "mmf0LVOQ3cNH",
        "colab_type": "code",
        "outputId": "6d103532-8e6c-4f1e-a9bb-049f2ca3ce00",
        "colab": {
          "base_uri": "https://localhost:8080/",
          "height": 34
        }
      },
      "cell_type": "code",
      "source": [
        "findMin([4, 2, 1, 3])"
      ],
      "execution_count": 0,
      "outputs": [
        {
          "output_type": "execute_result",
          "data": {
            "text/plain": [
              "1"
            ]
          },
          "metadata": {
            "tags": []
          },
          "execution_count": 31
        }
      ]
    },
    {
      "metadata": {
        "id": "T5iF6DRU6taW",
        "colab_type": "code",
        "outputId": "c7475424-986a-446d-d789-8a3a1f321e04",
        "colab": {
          "base_uri": "https://localhost:8080/",
          "height": 187
        }
      },
      "cell_type": "code",
      "source": [
        "from random import randrange\n",
        "for listSize in range(1000, 10001, 1000):\n",
        "  alist = [randrange(100000) for x in range(listSize)]\n",
        "  start = time.time()\n",
        "  findMin(alist)\n",
        "  end = time.time()\n",
        "  print(\"size: %d, time: %f\" % (listSize, end-start))"
      ],
      "execution_count": 0,
      "outputs": [
        {
          "output_type": "stream",
          "text": [
            "size: 1000, time: 0.000080\n",
            "size: 2000, time: 0.000206\n",
            "size: 3000, time: 0.000225\n",
            "size: 4000, time: 0.000295\n",
            "size: 5000, time: 0.000400\n",
            "size: 6000, time: 0.000421\n",
            "size: 7000, time: 0.000627\n",
            "size: 8000, time: 0.000576\n",
            "size: 9000, time: 0.000873\n",
            "size: 10000, time: 0.000710\n"
          ],
          "name": "stdout"
        }
      ]
    },
    {
      "metadata": {
        "id": "O7M0lNCB9lES",
        "colab_type": "code",
        "colab": {}
      },
      "cell_type": "code",
      "source": [
        "def fineMin(list):\n",
        "  minSoFar = list[0]\n",
        "  for i in list:\n",
        "    if i < minSoFar:\n",
        "      minSoFar = i\n",
        "  \n",
        "  return minSoFar"
      ],
      "execution_count": 0,
      "outputs": []
    },
    {
      "metadata": {
        "id": "4Qwmoid__1U5",
        "colab_type": "text"
      },
      "cell_type": "markdown",
      "source": [
        "**When comparing the subitems in a collection variable, it is helpful to make a seperate variable for comparison. You can decrease the number of nesting loops**"
      ]
    },
    {
      "metadata": {
        "id": "58fEYj-W7mGh",
        "colab_type": "code",
        "outputId": "fcadf1ee-4ed5-4f7e-8bc9-ef1f5fb1b2e5",
        "colab": {
          "base_uri": "https://localhost:8080/",
          "height": 34
        }
      },
      "cell_type": "code",
      "source": [
        "\"*\".join([\"cat\", \"dog\", \"rabbit\"])"
      ],
      "execution_count": 0,
      "outputs": [
        {
          "output_type": "execute_result",
          "data": {
            "text/plain": [
              "'cat*dog*rabbit'"
            ]
          },
          "metadata": {
            "tags": []
          },
          "execution_count": 35
        }
      ]
    },
    {
      "metadata": {
        "id": "6g7YIS3J7pnc",
        "colab_type": "code",
        "colab": {}
      },
      "cell_type": "code",
      "source": [
        "str.join?"
      ],
      "execution_count": 0,
      "outputs": []
    },
    {
      "metadata": {
        "id": "NK_0xMbc74xO",
        "colab_type": "text"
      },
      "cell_type": "markdown",
      "source": [
        "# 2.4 An Anagram Detection Example"
      ]
    },
    {
      "metadata": {
        "id": "7ISBh-dYpYVO",
        "colab_type": "text"
      },
      "cell_type": "markdown",
      "source": [
        "assumption: the two strings in question are of equal length and that they are made up of symbols from the set of 26 lowercase alphabetic characters. "
      ]
    },
    {
      "metadata": {
        "id": "pfD8ht0WmvZR",
        "colab_type": "text"
      },
      "cell_type": "markdown",
      "source": [
        "### 2.4.1 Solution 1: Checking Off"
      ]
    },
    {
      "metadata": {
        "id": "qC7--pRootW1",
        "colab_type": "code",
        "colab": {
          "base_uri": "https://localhost:8080/",
          "height": 34
        },
        "outputId": "65a9296e-a585-483b-a54e-b552112abe20"
      },
      "cell_type": "code",
      "source": [
        "def anagramSolution1(string1: str, string2: str) -> bool:\n",
        "\n",
        "  if not (len(string1) == len(string2)):\n",
        "    return False\n",
        "  \n",
        "  maxIndex = len(string1) - 1\n",
        "  listForCheckOff = list(string2)\n",
        "  stillOK = True\n",
        "  index1 = 0\n",
        "  \n",
        "  while index1 <= maxIndex and stillOK:\n",
        "    index2 = 0\n",
        "    found = False\n",
        "    while index2 <= maxIndex and not found:\n",
        "      if string1[index1] == listForCheckOff[index2]:\n",
        "        found = True\n",
        "      else:\n",
        "        index2 += 1\n",
        "    if found:\n",
        "      listForCheckOff[index2] = None\n",
        "      index1 += 1\n",
        "    else:\n",
        "      stillOK = False\n",
        "      \n",
        "  return stillOK\n",
        "\n",
        "print(anagramSolution1('abcde','edcba'))"
      ],
      "execution_count": 10,
      "outputs": [
        {
          "output_type": "stream",
          "text": [
            "True\n"
          ],
          "name": "stdout"
        }
      ]
    },
    {
      "metadata": {
        "id": "ll8geK_Kz7cP",
        "colab_type": "text"
      },
      "cell_type": "markdown",
      "source": [
        "$O(N^2)$"
      ]
    },
    {
      "metadata": {
        "id": "fJRk-0oFyTXQ",
        "colab_type": "text"
      },
      "cell_type": "markdown",
      "source": [
        "### 2.4.2 solution 2: Sort and Compare"
      ]
    },
    {
      "metadata": {
        "id": "oD05VBQyyotS",
        "colab_type": "code",
        "colab": {
          "base_uri": "https://localhost:8080/",
          "height": 34
        },
        "outputId": "2abd3f1b-9d85-49c4-93c2-4892d2bbbf8e"
      },
      "cell_type": "code",
      "source": [
        "def anagramSolution2(s1,s2):\n",
        "    alist1 = list(s1)\n",
        "    alist2 = list(s2)\n",
        "\n",
        "    alist1.sort()\n",
        "    alist2.sort()\n",
        "\n",
        "    pos = 0\n",
        "    matches = True\n",
        "\n",
        "    while pos < len(s1) and matches:\n",
        "        if alist1[pos]==alist2[pos]:\n",
        "            pos = pos + 1\n",
        "        else:\n",
        "            matches = False\n",
        "\n",
        "    return matches\n",
        "\n",
        "print(anagramSolution2('abcde','edcba'))"
      ],
      "execution_count": 2,
      "outputs": [
        {
          "output_type": "stream",
          "text": [
            "True\n"
          ],
          "name": "stdout"
        }
      ]
    },
    {
      "metadata": {
        "id": "hpoxDKyLy6Xl",
        "colab_type": "text"
      },
      "cell_type": "markdown",
      "source": [
        "sorting method ~ $O(n^2)$ or $O(nlogn)$"
      ]
    },
    {
      "metadata": {
        "id": "f9Fv6-qq0uvc",
        "colab_type": "text"
      },
      "cell_type": "markdown",
      "source": [
        "### 2.4.3 Solution 3: Brute Force"
      ]
    },
    {
      "metadata": {
        "id": "vpH9TVDl041D",
        "colab_type": "text"
      },
      "cell_type": "markdown",
      "source": [
        "$O(n!)$"
      ]
    },
    {
      "metadata": {
        "id": "RX86Qri8UIa0",
        "colab_type": "text"
      },
      "cell_type": "markdown",
      "source": [
        "### 2.4.4 Solution 4: Count and Compare"
      ]
    },
    {
      "metadata": {
        "id": "mMdKnkk409bp",
        "colab_type": "code",
        "colab": {}
      },
      "cell_type": "code",
      "source": [
        "def anagramSolution4(string1, string2):\n",
        "  countList1 = [0] * 26\n",
        "  countList2 = [0] * 26\n",
        "  \n",
        "  for i in range(len(string1)):\n",
        "    positionNumber = ord(string1[i]) - ord('a')\n",
        "    countList1[positionNumber] += 1\n",
        "    \n",
        "  for i in range(len(string2)):\n",
        "    positionNumber = ord(string2[i]) - ord('a')\n",
        "    countList2[positionNumber] += 1\n",
        "    \n",
        "  j = 0\n",
        "  stillOK = True\n",
        "  while j < 26 and stillOK:\n",
        "    if not countList1[j] == countList2[j]:\n",
        "      stillOK = False\n",
        "    \n",
        "    j += 1\n",
        "    \n",
        "  return stillOK"
      ],
      "execution_count": 0,
      "outputs": []
    },
    {
      "metadata": {
        "id": "rP3Ntkfr4OD_",
        "colab_type": "code",
        "colab": {
          "base_uri": "https://localhost:8080/",
          "height": 34
        },
        "outputId": "e85ad1cc-3914-4abe-b27e-932e2753abcd"
      },
      "cell_type": "code",
      "source": [
        "print(anagramSolution4('apple','pleap'))"
      ],
      "execution_count": 16,
      "outputs": [
        {
          "output_type": "stream",
          "text": [
            "True\n"
          ],
          "name": "stdout"
        }
      ]
    },
    {
      "metadata": {
        "id": "wFxz-iUo4PgH",
        "colab_type": "text"
      },
      "cell_type": "markdown",
      "source": [
        "## 2.5 Performance of Data Type Structures"
      ]
    },
    {
      "metadata": {
        "id": "dtd_g2c55EDd",
        "colab_type": "text"
      },
      "cell_type": "markdown",
      "source": [
        "## 2.6 Lists"
      ]
    },
    {
      "metadata": {
        "id": "bFAYLcDf5W9B",
        "colab_type": "text"
      },
      "cell_type": "markdown",
      "source": [
        "Two common operations are indexing and assigning to an index position. Both of these operations take the same amount of time no matter how large the list becomes. When an operation like this is independent of the size of the list they are O(1).\n",
        "\n",
        "Another very common programming task is to grow a list. There are two ways to create a longer list. You can use the append method or the concatenation operator. The append method is O(1). However, the concatenation operator is O(k) where k is the size of the list that is being concatenated. This is important for you to know because it can help you make your own programs more efficient by choosing the right tool for the job."
      ]
    },
    {
      "metadata": {
        "id": "vUF5ACpM5_Fu",
        "colab_type": "code",
        "colab": {}
      },
      "cell_type": "code",
      "source": [
        "def test1():\n",
        "    l = []\n",
        "    for i in range(1000):\n",
        "        l = l + [i]\n",
        "\n",
        "def test2():\n",
        "    l = []\n",
        "    for i in range(1000):\n",
        "        l.append(i)\n",
        "\n",
        "def test3():\n",
        "    l = [i for i in range(1000)]\n",
        "\n",
        "def test4():\n",
        "    l = list(range(1000))"
      ],
      "execution_count": 0,
      "outputs": []
    },
    {
      "metadata": {
        "id": "I7-_Whuw6KzU",
        "colab_type": "code",
        "colab": {
          "base_uri": "https://localhost:8080/",
          "height": 85
        },
        "outputId": "848ddd4e-88bd-43b5-c702-24e87ad45c5e"
      },
      "cell_type": "code",
      "source": [
        "from timeit import Timer\n",
        "t1 = Timer(\"test1()\", \"from __main__ import test1\")\n",
        "print(\"concat \",t1.timeit(number=1000), \"milliseconds\")\n",
        "t2 = Timer(\"test2()\", \"from __main__ import test2\")\n",
        "print(\"append \",t2.timeit(number=1000), \"milliseconds\")\n",
        "t3 = Timer(\"test3()\", \"from __main__ import test3\")\n",
        "print(\"comprehension \",t3.timeit(number=1000), \"milliseconds\")\n",
        "t4 = Timer(\"test4()\", \"from __main__ import test4\")\n",
        "print(\"list range \",t4.timeit(number=1000), \"milliseconds\")"
      ],
      "execution_count": 25,
      "outputs": [
        {
          "output_type": "stream",
          "text": [
            "concat  3.3858600749999823 milliseconds\n",
            "append  0.1258696449999661 milliseconds\n",
            "comprehension  0.052948732000004384 milliseconds\n",
            "list range  0.0202164540000922 milliseconds\n"
          ],
          "name": "stdout"
        }
      ]
    },
    {
      "metadata": {
        "id": "ISgv8F549hk2",
        "colab_type": "code",
        "colab": {}
      },
      "cell_type": "code",
      "source": [
        "popzero = Timer(\"x.pop(0)\",\n",
        "                       \"from __main__ import x\")\n",
        "popend = Timer(\"x.pop()\",\n",
        "                      \"from __main__ import x\")"
      ],
      "execution_count": 0,
      "outputs": []
    },
    {
      "metadata": {
        "id": "dyUzf9ou9iCN",
        "colab_type": "code",
        "colab": {
          "base_uri": "https://localhost:8080/",
          "height": 912
        },
        "outputId": "9537361d-1a8f-48e0-d642-13ab66407a59"
      },
      "cell_type": "code",
      "source": [
        "print(\"pop(0)   pop()\")\n",
        "for i in range(1000000,100000001,1000000):\n",
        "    x = list(range(i))\n",
        "    pt = popend.timeit(number=1000)\n",
        "    x = list(range(i))\n",
        "    pz = popzero.timeit(number=1000)\n",
        "    print(\"%15.5f, %15.5f\" %(pz,pt))"
      ],
      "execution_count": 28,
      "outputs": [
        {
          "output_type": "stream",
          "text": [
            "pop(0)   pop()\n",
            "        0.41885,         0.00010\n",
            "        0.88211,         0.00011\n",
            "        1.78873,         0.00011\n",
            "        3.14710,         0.00020\n",
            "        3.79175,         0.00011\n",
            "        4.30841,         0.00011\n",
            "        5.66254,         0.00010\n",
            "        6.97216,         0.00011\n",
            "        6.49183,         0.00013\n",
            "        7.77293,         0.00011\n",
            "        9.80659,         0.00020\n",
            "        9.10453,         0.00012\n",
            "        9.96907,         0.00011\n",
            "       11.95108,         0.00011\n",
            "       11.43230,         0.00012\n",
            "       12.22984,         0.00023\n",
            "       14.65156,         0.00010\n",
            "       15.78873,         0.00013\n",
            "       16.25215,         0.00013\n",
            "       17.09174,         0.00011\n",
            "       17.64155,         0.00011\n",
            "       18.42052,         0.00012\n",
            "       20.07636,         0.00012\n",
            "       20.29694,         0.00012\n",
            "       21.22121,         0.00012\n",
            "       22.05562,         0.00012\n",
            "       22.97285,         0.00014\n",
            "       24.04572,         0.00012\n",
            "       24.25102,         0.00012\n",
            "       25.70186,         0.00013\n",
            "       26.29084,         0.00011\n"
          ],
          "name": "stdout"
        },
        {
          "output_type": "error",
          "ename": "KeyboardInterrupt",
          "evalue": "ignored",
          "traceback": [
            "\u001b[0;31m---------------------------------------------------------------------------\u001b[0m",
            "\u001b[0;31mKeyboardInterrupt\u001b[0m                         Traceback (most recent call last)",
            "\u001b[0;32m<ipython-input-28-584888ad30e2>\u001b[0m in \u001b[0;36m<module>\u001b[0;34m()\u001b[0m\n\u001b[1;32m      4\u001b[0m     \u001b[0mpt\u001b[0m \u001b[0;34m=\u001b[0m \u001b[0mpopend\u001b[0m\u001b[0;34m.\u001b[0m\u001b[0mtimeit\u001b[0m\u001b[0;34m(\u001b[0m\u001b[0mnumber\u001b[0m\u001b[0;34m=\u001b[0m\u001b[0;36m1000\u001b[0m\u001b[0;34m)\u001b[0m\u001b[0;34m\u001b[0m\u001b[0;34m\u001b[0m\u001b[0m\n\u001b[1;32m      5\u001b[0m     \u001b[0mx\u001b[0m \u001b[0;34m=\u001b[0m \u001b[0mlist\u001b[0m\u001b[0;34m(\u001b[0m\u001b[0mrange\u001b[0m\u001b[0;34m(\u001b[0m\u001b[0mi\u001b[0m\u001b[0;34m)\u001b[0m\u001b[0;34m)\u001b[0m\u001b[0;34m\u001b[0m\u001b[0;34m\u001b[0m\u001b[0m\n\u001b[0;32m----> 6\u001b[0;31m     \u001b[0mpz\u001b[0m \u001b[0;34m=\u001b[0m \u001b[0mpopzero\u001b[0m\u001b[0;34m.\u001b[0m\u001b[0mtimeit\u001b[0m\u001b[0;34m(\u001b[0m\u001b[0mnumber\u001b[0m\u001b[0;34m=\u001b[0m\u001b[0;36m1000\u001b[0m\u001b[0;34m)\u001b[0m\u001b[0;34m\u001b[0m\u001b[0;34m\u001b[0m\u001b[0m\n\u001b[0m\u001b[1;32m      7\u001b[0m     \u001b[0mprint\u001b[0m\u001b[0;34m(\u001b[0m\u001b[0;34m\"%15.5f, %15.5f\"\u001b[0m \u001b[0;34m%\u001b[0m\u001b[0;34m(\u001b[0m\u001b[0mpz\u001b[0m\u001b[0;34m,\u001b[0m\u001b[0mpt\u001b[0m\u001b[0;34m)\u001b[0m\u001b[0;34m)\u001b[0m\u001b[0;34m\u001b[0m\u001b[0;34m\u001b[0m\u001b[0m\n",
            "\u001b[0;32m/usr/lib/python3.6/timeit.py\u001b[0m in \u001b[0;36mtimeit\u001b[0;34m(self, number)\u001b[0m\n\u001b[1;32m    176\u001b[0m         \u001b[0mgc\u001b[0m\u001b[0;34m.\u001b[0m\u001b[0mdisable\u001b[0m\u001b[0;34m(\u001b[0m\u001b[0;34m)\u001b[0m\u001b[0;34m\u001b[0m\u001b[0;34m\u001b[0m\u001b[0m\n\u001b[1;32m    177\u001b[0m         \u001b[0;32mtry\u001b[0m\u001b[0;34m:\u001b[0m\u001b[0;34m\u001b[0m\u001b[0;34m\u001b[0m\u001b[0m\n\u001b[0;32m--> 178\u001b[0;31m             \u001b[0mtiming\u001b[0m \u001b[0;34m=\u001b[0m \u001b[0mself\u001b[0m\u001b[0;34m.\u001b[0m\u001b[0minner\u001b[0m\u001b[0;34m(\u001b[0m\u001b[0mit\u001b[0m\u001b[0;34m,\u001b[0m \u001b[0mself\u001b[0m\u001b[0;34m.\u001b[0m\u001b[0mtimer\u001b[0m\u001b[0;34m)\u001b[0m\u001b[0;34m\u001b[0m\u001b[0;34m\u001b[0m\u001b[0m\n\u001b[0m\u001b[1;32m    179\u001b[0m         \u001b[0;32mfinally\u001b[0m\u001b[0;34m:\u001b[0m\u001b[0;34m\u001b[0m\u001b[0;34m\u001b[0m\u001b[0m\n\u001b[1;32m    180\u001b[0m             \u001b[0;32mif\u001b[0m \u001b[0mgcold\u001b[0m\u001b[0;34m:\u001b[0m\u001b[0;34m\u001b[0m\u001b[0;34m\u001b[0m\u001b[0m\n",
            "\u001b[0;32m/usr/lib/python3.6/timeit.py\u001b[0m in \u001b[0;36minner\u001b[0;34m(_it, _timer)\u001b[0m\n",
            "\u001b[0;31mKeyboardInterrupt\u001b[0m: "
          ]
        }
      ]
    },
    {
      "metadata": {
        "id": "bkt-v0LFCfdP",
        "colab_type": "text"
      },
      "cell_type": "markdown",
      "source": [
        "## 2.7 Dictionaries"
      ]
    },
    {
      "metadata": {
        "id": "7klrHrtZChoh",
        "colab_type": "code",
        "colab": {}
      },
      "cell_type": "code",
      "source": [
        "def timingContainsOperatorInList(i):\n",
        "  import random, time\n",
        "  alist = list(range(i))\n",
        "  random.randrange(i) in alist"
      ],
      "execution_count": 0,
      "outputs": []
    },
    {
      "metadata": {
        "id": "pUG8gTrrH_xq",
        "colab_type": "code",
        "colab": {}
      },
      "cell_type": "code",
      "source": [
        "def timingContainsOperatorInDictionary(i):\n",
        "  import random, time\n",
        "  adictionary = {j:None for j in range(i)}\n",
        "  random.randrange(i) in adictionary"
      ],
      "execution_count": 0,
      "outputs": []
    },
    {
      "metadata": {
        "id": "7aS-hZxqGIXs",
        "colab_type": "code",
        "colab": {
          "base_uri": "https://localhost:8080/",
          "height": 657
        },
        "outputId": "1c4e7b89-c57b-4801-ff17-500021e7f2ea"
      },
      "cell_type": "code",
      "source": [
        "# this experiment is not suitable for the purpose because the functions include the process of initiating a list and a dictionary\n",
        "from timeit import Timer\n",
        "listTimer = Timer(\"timingContainsOperatorInList(i)\", \"from __main__ import timingContainsOperatorInList, i\")\n",
        "dictionaryTimer = Timer(\"timingContainsOperatorInDictionary(i)\", \"from __main__ import timingContainsOperatorInDictionary, i\")\n",
        "print(\"List     Dictionary\")\n",
        "for i in range(10000, 1000001, 10000):\n",
        "  lt = listTimer.timeit(number=1000)\n",
        "  dt = dictionaryTimer.timeit(number=1000)\n",
        "  print(\"%7.5f %7.5f\" %(lt, dt))"
      ],
      "execution_count": 21,
      "outputs": [
        {
          "output_type": "stream",
          "text": [
            "List     Dictionary\n",
            "0.27228 0.87958\n",
            "0.65668 1.78705\n",
            "1.10135 2.92121\n",
            "1.52450 3.78362\n"
          ],
          "name": "stdout"
        },
        {
          "output_type": "error",
          "ename": "KeyboardInterrupt",
          "evalue": "ignored",
          "traceback": [
            "\u001b[0;31m---------------------------------------------------------------------------\u001b[0m",
            "\u001b[0;31mKeyboardInterrupt\u001b[0m                         Traceback (most recent call last)",
            "\u001b[0;32m<ipython-input-21-ea211780b253>\u001b[0m in \u001b[0;36m<module>\u001b[0;34m()\u001b[0m\n\u001b[1;32m      5\u001b[0m \u001b[0;32mfor\u001b[0m \u001b[0mi\u001b[0m \u001b[0;32min\u001b[0m \u001b[0mrange\u001b[0m\u001b[0;34m(\u001b[0m\u001b[0;36m10000\u001b[0m\u001b[0;34m,\u001b[0m \u001b[0;36m1000001\u001b[0m\u001b[0;34m,\u001b[0m \u001b[0;36m10000\u001b[0m\u001b[0;34m)\u001b[0m\u001b[0;34m:\u001b[0m\u001b[0;34m\u001b[0m\u001b[0;34m\u001b[0m\u001b[0m\n\u001b[1;32m      6\u001b[0m   \u001b[0mlt\u001b[0m \u001b[0;34m=\u001b[0m \u001b[0mlistTimer\u001b[0m\u001b[0;34m.\u001b[0m\u001b[0mtimeit\u001b[0m\u001b[0;34m(\u001b[0m\u001b[0mnumber\u001b[0m\u001b[0;34m=\u001b[0m\u001b[0;36m1000\u001b[0m\u001b[0;34m)\u001b[0m\u001b[0;34m\u001b[0m\u001b[0;34m\u001b[0m\u001b[0m\n\u001b[0;32m----> 7\u001b[0;31m   \u001b[0mdt\u001b[0m \u001b[0;34m=\u001b[0m \u001b[0mdictionaryTimer\u001b[0m\u001b[0;34m.\u001b[0m\u001b[0mtimeit\u001b[0m\u001b[0;34m(\u001b[0m\u001b[0mnumber\u001b[0m\u001b[0;34m=\u001b[0m\u001b[0;36m1000\u001b[0m\u001b[0;34m)\u001b[0m\u001b[0;34m\u001b[0m\u001b[0;34m\u001b[0m\u001b[0m\n\u001b[0m\u001b[1;32m      8\u001b[0m   \u001b[0mprint\u001b[0m\u001b[0;34m(\u001b[0m\u001b[0;34m\"%7.5f %7.5f\"\u001b[0m \u001b[0;34m%\u001b[0m\u001b[0;34m(\u001b[0m\u001b[0mlt\u001b[0m\u001b[0;34m,\u001b[0m \u001b[0mdt\u001b[0m\u001b[0;34m)\u001b[0m\u001b[0;34m)\u001b[0m\u001b[0;34m\u001b[0m\u001b[0;34m\u001b[0m\u001b[0m\n",
            "\u001b[0;32m/usr/lib/python3.6/timeit.py\u001b[0m in \u001b[0;36mtimeit\u001b[0;34m(self, number)\u001b[0m\n\u001b[1;32m    176\u001b[0m         \u001b[0mgc\u001b[0m\u001b[0;34m.\u001b[0m\u001b[0mdisable\u001b[0m\u001b[0;34m(\u001b[0m\u001b[0;34m)\u001b[0m\u001b[0;34m\u001b[0m\u001b[0;34m\u001b[0m\u001b[0m\n\u001b[1;32m    177\u001b[0m         \u001b[0;32mtry\u001b[0m\u001b[0;34m:\u001b[0m\u001b[0;34m\u001b[0m\u001b[0;34m\u001b[0m\u001b[0m\n\u001b[0;32m--> 178\u001b[0;31m             \u001b[0mtiming\u001b[0m \u001b[0;34m=\u001b[0m \u001b[0mself\u001b[0m\u001b[0;34m.\u001b[0m\u001b[0minner\u001b[0m\u001b[0;34m(\u001b[0m\u001b[0mit\u001b[0m\u001b[0;34m,\u001b[0m \u001b[0mself\u001b[0m\u001b[0;34m.\u001b[0m\u001b[0mtimer\u001b[0m\u001b[0;34m)\u001b[0m\u001b[0;34m\u001b[0m\u001b[0;34m\u001b[0m\u001b[0m\n\u001b[0m\u001b[1;32m    179\u001b[0m         \u001b[0;32mfinally\u001b[0m\u001b[0;34m:\u001b[0m\u001b[0;34m\u001b[0m\u001b[0;34m\u001b[0m\u001b[0m\n\u001b[1;32m    180\u001b[0m             \u001b[0;32mif\u001b[0m \u001b[0mgcold\u001b[0m\u001b[0;34m:\u001b[0m\u001b[0;34m\u001b[0m\u001b[0;34m\u001b[0m\u001b[0m\n",
            "\u001b[0;32m/usr/lib/python3.6/timeit.py\u001b[0m in \u001b[0;36minner\u001b[0;34m(_it, _timer)\u001b[0m\n",
            "\u001b[0;32m<ipython-input-20-7ba33a97ae19>\u001b[0m in \u001b[0;36mtimingContainsOperatorInDictionary\u001b[0;34m(i)\u001b[0m\n\u001b[1;32m      1\u001b[0m \u001b[0;32mdef\u001b[0m \u001b[0mtimingContainsOperatorInDictionary\u001b[0m\u001b[0;34m(\u001b[0m\u001b[0mi\u001b[0m\u001b[0;34m)\u001b[0m\u001b[0;34m:\u001b[0m\u001b[0;34m\u001b[0m\u001b[0;34m\u001b[0m\u001b[0m\n\u001b[1;32m      2\u001b[0m   \u001b[0;32mimport\u001b[0m \u001b[0mrandom\u001b[0m\u001b[0;34m,\u001b[0m \u001b[0mtime\u001b[0m\u001b[0;34m\u001b[0m\u001b[0;34m\u001b[0m\u001b[0m\n\u001b[0;32m----> 3\u001b[0;31m   \u001b[0madictionary\u001b[0m \u001b[0;34m=\u001b[0m \u001b[0;34m{\u001b[0m\u001b[0mj\u001b[0m\u001b[0;34m:\u001b[0m\u001b[0;32mNone\u001b[0m \u001b[0;32mfor\u001b[0m \u001b[0mj\u001b[0m \u001b[0;32min\u001b[0m \u001b[0mrange\u001b[0m\u001b[0;34m(\u001b[0m\u001b[0mi\u001b[0m\u001b[0;34m)\u001b[0m\u001b[0;34m}\u001b[0m\u001b[0;34m\u001b[0m\u001b[0;34m\u001b[0m\u001b[0m\n\u001b[0m\u001b[1;32m      4\u001b[0m   \u001b[0mrandom\u001b[0m\u001b[0;34m.\u001b[0m\u001b[0mrandrange\u001b[0m\u001b[0;34m(\u001b[0m\u001b[0mi\u001b[0m\u001b[0;34m)\u001b[0m \u001b[0;32min\u001b[0m \u001b[0madictionary\u001b[0m\u001b[0;34m\u001b[0m\u001b[0;34m\u001b[0m\u001b[0m\n",
            "\u001b[0;32m<ipython-input-20-7ba33a97ae19>\u001b[0m in \u001b[0;36m<dictcomp>\u001b[0;34m(.0)\u001b[0m\n\u001b[1;32m      1\u001b[0m \u001b[0;32mdef\u001b[0m \u001b[0mtimingContainsOperatorInDictionary\u001b[0m\u001b[0;34m(\u001b[0m\u001b[0mi\u001b[0m\u001b[0;34m)\u001b[0m\u001b[0;34m:\u001b[0m\u001b[0;34m\u001b[0m\u001b[0;34m\u001b[0m\u001b[0m\n\u001b[1;32m      2\u001b[0m   \u001b[0;32mimport\u001b[0m \u001b[0mrandom\u001b[0m\u001b[0;34m,\u001b[0m \u001b[0mtime\u001b[0m\u001b[0;34m\u001b[0m\u001b[0;34m\u001b[0m\u001b[0m\n\u001b[0;32m----> 3\u001b[0;31m   \u001b[0madictionary\u001b[0m \u001b[0;34m=\u001b[0m \u001b[0;34m{\u001b[0m\u001b[0mj\u001b[0m\u001b[0;34m:\u001b[0m\u001b[0;32mNone\u001b[0m \u001b[0;32mfor\u001b[0m \u001b[0mj\u001b[0m \u001b[0;32min\u001b[0m \u001b[0mrange\u001b[0m\u001b[0;34m(\u001b[0m\u001b[0mi\u001b[0m\u001b[0;34m)\u001b[0m\u001b[0;34m}\u001b[0m\u001b[0;34m\u001b[0m\u001b[0;34m\u001b[0m\u001b[0m\n\u001b[0m\u001b[1;32m      4\u001b[0m   \u001b[0mrandom\u001b[0m\u001b[0;34m.\u001b[0m\u001b[0mrandrange\u001b[0m\u001b[0;34m(\u001b[0m\u001b[0mi\u001b[0m\u001b[0;34m)\u001b[0m \u001b[0;32min\u001b[0m \u001b[0madictionary\u001b[0m\u001b[0;34m\u001b[0m\u001b[0;34m\u001b[0m\u001b[0m\n",
            "\u001b[0;31mKeyboardInterrupt\u001b[0m: "
          ]
        }
      ]
    },
    {
      "metadata": {
        "id": "QzFgP5IrGaZN",
        "colab_type": "code",
        "colab": {
          "base_uri": "https://localhost:8080/",
          "height": 187
        },
        "outputId": "5397be1d-008e-4c9e-a6fa-bc5f17e51418"
      },
      "cell_type": "code",
      "source": [
        "import random\n",
        "from timeit import Timer\n",
        "ltList = []\n",
        "dtList = []\n",
        "\n",
        "for i in range(100, 10001, 100):\n",
        "  alist = list(range(i))\n",
        "  listTimer = Timer(\"random.randrange(i) in alist\", \"from __main__ import random, i, alist\")\n",
        "  lt = listTimer.timeit(number=1000)\n",
        "  adictionary = {j: None for j in range(i)}\n",
        "  dictionaryTimer = Timer(\"random.randrange(i) in adictionary\", \"from __main__ import random, i, adictionary\")\n",
        "  dt = dictionaryTimer.timeit(number=1000)\n",
        "  ltList.append(lt)\n",
        "  dtList.append(dt)\n",
        "  if i % 1000 == 0:\n",
        "    print(\"i = %d\" %i)"
      ],
      "execution_count": 30,
      "outputs": [
        {
          "output_type": "stream",
          "text": [
            "i = 1000\n",
            "i = 2000\n",
            "i = 3000\n",
            "i = 4000\n",
            "i = 5000\n",
            "i = 6000\n",
            "i = 7000\n",
            "i = 8000\n",
            "i = 9000\n",
            "i = 10000\n"
          ],
          "name": "stdout"
        }
      ]
    },
    {
      "metadata": {
        "id": "BCG8UrBGMg1Y",
        "colab_type": "code",
        "colab": {
          "base_uri": "https://localhost:8080/",
          "height": 279
        },
        "outputId": "aa2d9415-b081-4364-c51f-5b1bb4cba0d7"
      },
      "cell_type": "code",
      "source": [
        "%matplotlib inline\n",
        "import matplotlib.pyplot as plt\n",
        "plt.style.use('seaborn-whitegrid')\n",
        "import numpy as np\n",
        "\n",
        "x = np.array(range(100, 10001, 100))\n",
        "y1 = np.array(ltList)\n",
        "y2 = np.array(dtList)\n",
        "plt.plot(x, y1, '-ok')\n",
        "plt.plot(x, y2, '-<b')\n",
        "plt.xlabel(\"Size of List or Dictionary\")\n",
        "plt.ylabel(\"Time to Complete Contains Operation\");"
      ],
      "execution_count": 31,
      "outputs": [
        {
          "output_type": "display_data",
          "data": {
            "image/png": "[encoded data removed]",
            "text/plain": [
              "<Figure size 432x288 with 1 Axes>"
            ]
          },
          "metadata": {
            "tags": []
          }
        }
      ]
    },
    {
      "metadata": {
        "id": "RqFs5-gURysJ",
        "colab_type": "code",
        "colab": {}
      },
      "cell_type": "code",
      "source": [
        "## 2.11 Programming Exercizes"
      ],
      "execution_count": 0,
      "outputs": []
    },
    {
      "metadata": {
        "id": "YcKEk88GNJVz",
        "colab_type": "code",
        "colab": {}
      },
      "cell_type": "code",
      "source": [
        "print(\"i     lt     dt\")\n",
        "for i in range(10000, 1000001, 1000):\n",
        "  alist = list(range(i))\n",
        "  listTimer = Timer(\"alist[random.randrange(i)]\", \"from __main__ import random, i, alist\")\n",
        "  lt = listTimer.timeit(number=1000)\n",
        "  adictionary = {j: None for j in range(i)}\n",
        "  dictionaryTimer = Timer(\"adictionary(random.randrange(i))\", \"from __main__ import random, i, adictionary\")\n",
        "  dt = dictionaryTimer.timeit(number=1000)\n",
        "  print(\"%d %7.5f %7.5f\" %(i, lt, df))"
      ],
      "execution_count": 0,
      "outputs": []
    },
    {
      "metadata": {
        "id": "aF3YThQ7TKrM",
        "colab_type": "text"
      },
      "cell_type": "markdown",
      "source": [
        "alist.sort()\n",
        "\n",
        "alist[k-1]"
      ]
    },
    {
      "metadata": {
        "id": "LduCslvUUXQP",
        "colab_type": "code",
        "colab": {}
      },
      "cell_type": "code",
      "source": [
        "def fineMin(alist):\n",
        "  minSoFar = list[0]\n",
        "  for i in list:\n",
        "    if i < minSoFar:\n",
        "      minSoFar = i\n",
        "  \n",
        "  return minSoFar"
      ],
      "execution_count": 0,
      "outputs": []
    }
  ]
}