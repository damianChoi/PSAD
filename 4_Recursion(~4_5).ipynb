{
  "nbformat": 4,
  "nbformat_minor": 0,
  "metadata": {
    "colab": {
      "name": "4. Recursion(~4.5).ipynb",
      "version": "0.3.2",
      "provenance": [],
      "collapsed_sections": [],
      "include_colab_link": true
    },
    "kernelspec": {
      "name": "python3",
      "display_name": "Python 3"
    }
  },
  "cells": [
    {
      "cell_type": "markdown",
      "metadata": {
        "id": "view-in-github",
        "colab_type": "text"
      },
      "source": [
        "<a href=\"https://colab.research.google.com/github/damianChoi/PSAD/blob/master/4_Recursion(~4_5).ipynb\" target=\"_parent\"><img src=\"https://colab.research.google.com/assets/colab-badge.svg\" alt=\"Open In Colab\"/></a>"
      ]
    },
    {
      "metadata": {
        "id": "AC2XiD2Cv5hQ",
        "colab_type": "text"
      },
      "cell_type": "markdown",
      "source": [
        "# 4.1 Objectives"
      ]
    },
    {
      "metadata": {
        "id": "C3mgXfoQw_dO",
        "colab_type": "text"
      },
      "cell_type": "markdown",
      "source": [
        "# 4.2 What is Recursion?"
      ]
    },
    {
      "metadata": {
        "id": "BgCfNVsZwcIV",
        "colab_type": "text"
      },
      "cell_type": "markdown",
      "source": [
        "**Recursion** is a method of solving problems that involves breaking a problem down into smaller and smaller subproblems until you get to a small enough problem that it can be solved trivially. Usually recursion involves a function calling itself."
      ]
    },
    {
      "metadata": {
        "id": "LKp4c3FIxBZv",
        "colab_type": "text"
      },
      "cell_type": "markdown",
      "source": [
        "# Calculating the Sum of a Vector of Numbers"
      ]
    },
    {
      "metadata": {
        "id": "HX79YPb3xRwz",
        "colab_type": "code",
        "outputId": "bd2a3c17-eab9-4e68-81c3-d9b5a84d9ff3",
        "colab": {
          "base_uri": "https://localhost:8080/",
          "height": 34
        }
      },
      "cell_type": "code",
      "source": [
        "def listsum(numberlist):\n",
        "  theSum = 0\n",
        "  for number in numberlist:\n",
        "    theSum += number\n",
        "  return theSum\n",
        "\n",
        "def main():\n",
        "    print(listsum([1,3,5,7,9]))\n",
        "\n",
        "main()"
      ],
      "execution_count": 0,
      "outputs": [
        {
          "output_type": "stream",
          "text": [
            "25\n"
          ],
          "name": "stdout"
        }
      ]
    },
    {
      "metadata": {
        "id": "YvB_qTG7yTi0",
        "colab_type": "code",
        "outputId": "4f792cc9-2537-49b2-ae91-346ef280c758",
        "colab": {
          "base_uri": "https://localhost:8080/",
          "height": 34
        }
      },
      "cell_type": "code",
      "source": [
        "__name__"
      ],
      "execution_count": 0,
      "outputs": [
        {
          "output_type": "execute_result",
          "data": {
            "text/plain": [
              "'__main__'"
            ]
          },
          "metadata": {
            "tags": []
          },
          "execution_count": 3
        }
      ]
    },
    {
      "metadata": {
        "id": "bM9dqvzJyWWQ",
        "colab_type": "code",
        "colab": {}
      },
      "cell_type": "code",
      "source": [
        "def recursiveListSum(nubmerList):\n",
        "  if len(numberList) == 1:\n",
        "    return numberList[0]\n",
        "  else:\n",
        "    return numberList[0] + recursiveListSum(numberList[1:])"
      ],
      "execution_count": 0,
      "outputs": []
    },
    {
      "metadata": {
        "id": "mALeNlc11FRe",
        "colab_type": "code",
        "outputId": "e6aae317-d4c2-4448-cbdb-b2914e367b09",
        "colab": {
          "base_uri": "https://localhost:8080/",
          "height": 34
        }
      },
      "cell_type": "code",
      "source": [
        "print(listsum([1,3,5,7,9]))"
      ],
      "execution_count": 0,
      "outputs": [
        {
          "output_type": "stream",
          "text": [
            "25\n"
          ],
          "name": "stdout"
        }
      ]
    },
    {
      "metadata": {
        "id": "0VxCV-cj1F78",
        "colab_type": "text"
      },
      "cell_type": "markdown",
      "source": [
        "# 4.4 The Laws of Recursion"
      ]
    },
    {
      "metadata": {
        "id": "tEAWNB2_ykc-",
        "colab_type": "text"
      },
      "cell_type": "markdown",
      "source": [
        "Isaac Asimov was an American writer and professor of biochemistry at Boston University. He was known for his works of science fiction and popular science. Asimov was a prolific writer who wrote or edited more than 500 books and an estimated 90,000 letters and postcards."
      ]
    },
    {
      "metadata": {
        "id": "JwXeGMwPy4tf",
        "colab_type": "text"
      },
      "cell_type": "markdown",
      "source": [
        "\n",
        "\n",
        "> 1. A recursive algorithm must have a base case.\n",
        "\n",
        "> 2. A recursive algorithm must change its state and move toward the base case.\n",
        "\n",
        "> 3. A recursive algorithm must call itself, recursively.\n",
        "\n"
      ]
    },
    {
      "metadata": {
        "id": "OAH-Qa_ozO9Y",
        "colab_type": "code",
        "colab": {}
      },
      "cell_type": "code",
      "source": [
        "# recursive factorial function\n",
        "\n",
        "def factorial(n: int) -> int:\n",
        "  if n <= 1:\n",
        "    return 1\n",
        "  else:\n",
        "    return n * factorial(n-1)"
      ],
      "execution_count": 0,
      "outputs": []
    },
    {
      "metadata": {
        "id": "hBWdEJRv1Gey",
        "colab_type": "code",
        "colab": {
          "base_uri": "https://localhost:8080/",
          "height": 34
        },
        "outputId": "c79c397c-397d-4cb0-9c6f-b77e05961ac6"
      },
      "cell_type": "code",
      "source": [
        "# confirm\n",
        "factorial(5)"
      ],
      "execution_count": 2,
      "outputs": [
        {
          "output_type": "execute_result",
          "data": {
            "text/plain": [
              "120"
            ]
          },
          "metadata": {
            "tags": []
          },
          "execution_count": 2
        }
      ]
    },
    {
      "metadata": {
        "id": "FVP71A9B1M6N",
        "colab_type": "text"
      },
      "cell_type": "markdown",
      "source": [
        "# 4.5 Converting an Integer to a String in Any Base"
      ]
    },
    {
      "metadata": {
        "id": "YDh6vWGV1bpB",
        "colab_type": "code",
        "colab": {}
      },
      "cell_type": "code",
      "source": [
        "def convertToString(number: int, base: int =10) -> str:\n",
        "  \n",
        "  \"\"\"\n",
        "  This function converts an ingeter to a string.\n",
        "  For 'number' parameter you can insert the integer you want to be converted.\n",
        "  Base is default to be 10. The base should be a natural number less than or equal to 16.\n",
        "  \"\"\"\n",
        "  \n",
        "  numberString = \"0123456789ABCDEF\"\n",
        "  \n",
        "  # base case to be referenced\n",
        "  if number < base:\n",
        "    return numberString[number]\n",
        "  \n",
        "  # else, change its state to a simpler one\n",
        "  else:\n",
        "    return convertToString(number//base, base) + numberString[number % base] # recursive function call"
      ],
      "execution_count": 0,
      "outputs": []
    },
    {
      "metadata": {
        "id": "-5b9GhFc57Qi",
        "colab_type": "code",
        "colab": {}
      },
      "cell_type": "code",
      "source": [
        "convertToString?"
      ],
      "execution_count": 0,
      "outputs": []
    },
    {
      "metadata": {
        "id": "NCOfFz9H591-",
        "colab_type": "code",
        "colab": {}
      },
      "cell_type": "code",
      "source": [
        "convertToString??"
      ],
      "execution_count": 0,
      "outputs": []
    },
    {
      "metadata": {
        "id": "Ye2ziXpn6Dme",
        "colab_type": "code",
        "colab": {
          "base_uri": "https://localhost:8080/",
          "height": 34
        },
        "outputId": "3c509943-1613-4bcf-93ac-c1cfa11695b6"
      },
      "cell_type": "code",
      "source": [
        "print(convertToString(1453,16))"
      ],
      "execution_count": 13,
      "outputs": [
        {
          "output_type": "stream",
          "text": [
            "5AD\n"
          ],
          "name": "stdout"
        }
      ]
    },
    {
      "metadata": {
        "id": "9AEhZUWI6Wqi",
        "colab_type": "code",
        "colab": {}
      },
      "cell_type": "code",
      "source": [
        "# self check1\n",
        "\n",
        "def reverse(string: str) -> str:\n",
        "  \n",
        "  \"\"\"\n",
        "  This function takes a string as a parameter and returns a new string that is the reverse of the old string. \n",
        "  \"\"\"\n",
        "  \n",
        "  if len(string) == 1:\n",
        "    return string\n",
        "  \n",
        "  else:\n",
        "    return reverse(string[1:]) + string[0]  "
      ],
      "execution_count": 0,
      "outputs": []
    },
    {
      "metadata": {
        "id": "lQASfpO-8Mrm",
        "colab_type": "code",
        "colab": {}
      },
      "cell_type": "code",
      "source": [
        "# self check2\n",
        "\n",
        "# simple form\n",
        "\n",
        "# pal -> palindrome\n",
        "\n",
        "def isPal(string):\n",
        "  if len(string) <= 1:\n",
        "    return True\n",
        "  else:\n",
        "    if string[0] == string[len(string) - 1]:\n",
        "      return isPal(string[1:-1])\n",
        "    else:\n",
        "      return False"
      ],
      "execution_count": 0,
      "outputs": []
    },
    {
      "metadata": {
        "id": "oBT2wFp5t-zE",
        "colab_type": "code",
        "colab": {}
      },
      "cell_type": "code",
      "source": [
        "# removing spaces and punctuations\n",
        "def removeWhite(string):\n",
        "  import re\n",
        "  newString = re.sub('[^A-Za-z0-9]+', '', string)\n",
        "  return newString  "
      ],
      "execution_count": 0,
      "outputs": []
    },
    {
      "metadata": {
        "id": "qMQ9zzvdArAr",
        "colab_type": "code",
        "colab": {
          "base_uri": "https://localhost:8080/",
          "height": 34
        },
        "outputId": "57e3d3ec-03c8-4e07-ac94-e5aa139270f1"
      },
      "cell_type": "code",
      "source": [
        "isPal('radar')"
      ],
      "execution_count": 19,
      "outputs": [
        {
          "output_type": "execute_result",
          "data": {
            "text/plain": [
              "True"
            ]
          },
          "metadata": {
            "tags": []
          },
          "execution_count": 19
        }
      ]
    },
    {
      "metadata": {
        "id": "dSzuu3utBZqo",
        "colab_type": "code",
        "colab": {
          "base_uri": "https://localhost:8080/",
          "height": 34
        },
        "outputId": "e6b44cb7-6095-4b65-cc5c-602163774a51"
      },
      "cell_type": "code",
      "source": [
        "isPal('hannah')"
      ],
      "execution_count": 20,
      "outputs": [
        {
          "output_type": "execute_result",
          "data": {
            "text/plain": [
              "True"
            ]
          },
          "metadata": {
            "tags": []
          },
          "execution_count": 20
        }
      ]
    },
    {
      "metadata": {
        "id": "ghTEMONGzYwr",
        "colab_type": "code",
        "colab": {
          "base_uri": "https://localhost:8080/",
          "height": 34
        },
        "outputId": "bf5eb7c1-31a9-4dab-cb6d-ac02973b56c1"
      },
      "cell_type": "code",
      "source": [
        "isPal(removeWhite(\"madam i'm adam\"))"
      ],
      "execution_count": 39,
      "outputs": [
        {
          "output_type": "execute_result",
          "data": {
            "text/plain": [
              "True"
            ]
          },
          "metadata": {
            "tags": []
          },
          "execution_count": 39
        }
      ]
    },
    {
      "metadata": {
        "id": "Gooeg2MAzeDg",
        "colab_type": "code",
        "colab": {
          "base_uri": "https://localhost:8080/",
          "height": 34
        },
        "outputId": "5ce35e52-ebc2-4186-a1ca-b82674ccb183"
      },
      "cell_type": "code",
      "source": [
        "removeWhite(\"madam i'm adam\")"
      ],
      "execution_count": 40,
      "outputs": [
        {
          "output_type": "execute_result",
          "data": {
            "text/plain": [
              "'madamimadam'"
            ]
          },
          "metadata": {
            "tags": []
          },
          "execution_count": 40
        }
      ]
    },
    {
      "metadata": {
        "id": "xOo8OhFxBdaa",
        "colab_type": "text"
      },
      "cell_type": "markdown",
      "source": [
        "* recommend you to look over [learn regex the easiest way](https://github.com/ziishaned/learn-regex#6-greedy-vs-lazy-matching)"
      ]
    },
    {
      "metadata": {
        "id": "A3x1a50ohOyi",
        "colab_type": "code",
        "colab": {}
      },
      "cell_type": "code",
      "source": [
        "import re"
      ],
      "execution_count": 0,
      "outputs": []
    },
    {
      "metadata": {
        "id": "AcLdFlthhPOM",
        "colab_type": "code",
        "colab": {}
      },
      "cell_type": "code",
      "source": [
        "p = re.compile('ab*')"
      ],
      "execution_count": 0,
      "outputs": []
    },
    {
      "metadata": {
        "id": "PRfk6K-XhgQs",
        "colab_type": "code",
        "colab": {}
      },
      "cell_type": "code",
      "source": [
        "p = re.compile('[a-z]*')"
      ],
      "execution_count": 0,
      "outputs": []
    },
    {
      "metadata": {
        "id": "ij7u3rtBh44k",
        "colab_type": "code",
        "colab": {}
      },
      "cell_type": "code",
      "source": [
        "m = p.match('python')"
      ],
      "execution_count": 0,
      "outputs": []
    },
    {
      "metadata": {
        "id": "RSB2fFCwh7vE",
        "colab_type": "code",
        "colab": {
          "base_uri": "https://localhost:8080/",
          "height": 34
        },
        "outputId": "27790012-8878-48ef-d95c-f7277a7f3115"
      },
      "cell_type": "code",
      "source": [
        "print(m)"
      ],
      "execution_count": 27,
      "outputs": [
        {
          "output_type": "stream",
          "text": [
            "<_sre.SRE_Match object; span=(0, 6), match='python'>\n"
          ],
          "name": "stdout"
        }
      ]
    },
    {
      "metadata": {
        "id": "2i1GmY6Xh-8u",
        "colab_type": "code",
        "colab": {
          "base_uri": "https://localhost:8080/",
          "height": 34
        },
        "outputId": "e4b03fc4-198f-434d-e3d4-6695fe0eab36"
      },
      "cell_type": "code",
      "source": [
        "if m:\n",
        "  print('Match found:', m.group())"
      ],
      "execution_count": 29,
      "outputs": [
        {
          "output_type": "stream",
          "text": [
            "Match found: python\n"
          ],
          "name": "stdout"
        }
      ]
    },
    {
      "metadata": {
        "id": "NoVCEGpfiOOC",
        "colab_type": "code",
        "colab": {}
      },
      "cell_type": "code",
      "source": [
        "m.group?"
      ],
      "execution_count": 0,
      "outputs": []
    },
    {
      "metadata": {
        "id": "7j-QyBjiiUyR",
        "colab_type": "code",
        "colab": {
          "base_uri": "https://localhost:8080/",
          "height": 34
        },
        "outputId": "dba7f98c-afbe-41d6-8da6-10ca29215ce3"
      },
      "cell_type": "code",
      "source": [
        "print('hello \\bworld')"
      ],
      "execution_count": 32,
      "outputs": [
        {
          "output_type": "stream",
          "text": [
            "hello \bworld\n"
          ],
          "name": "stdout"
        }
      ]
    },
    {
      "metadata": {
        "id": "cHhI3vA5skWG",
        "colab_type": "code",
        "colab": {}
      },
      "cell_type": "code",
      "source": [
        "s = \"\"\"\n",
        "park 010-9999-9988\n",
        "kim 010-9909-7789\n",
        "lee 010-8789-7768\n",
        "\"\"\""
      ],
      "execution_count": 0,
      "outputs": []
    },
    {
      "metadata": {
        "id": "1W57RG5ssil5",
        "colab_type": "code",
        "colab": {
          "base_uri": "https://localhost:8080/",
          "height": 102
        },
        "outputId": "c02f3ac3-07ad-4908-af55-eca67a409e86"
      },
      "cell_type": "code",
      "source": [
        "p = re.compile(r'(\\w+\\s+\\d+[-]\\d+)[-](\\d+)')\n",
        "print(p.sub('\\g<1>-####', s))"
      ],
      "execution_count": 36,
      "outputs": [
        {
          "output_type": "stream",
          "text": [
            "\n",
            "park 010-9999-####\n",
            "kim 010-9909-####\n",
            "lee 010-8789-####\n",
            "\n"
          ],
          "name": "stdout"
        }
      ]
    },
    {
      "metadata": {
        "id": "e80j8DTIsmt5",
        "colab_type": "code",
        "colab": {
          "base_uri": "https://localhost:8080/",
          "height": 68
        },
        "outputId": "d5794d97-4f4c-4fd9-9c4e-06ac09e34331"
      },
      "cell_type": "code",
      "source": [
        "pat = re.compile(\".*[@].*[.](?=com$|net$).*$\")\n",
        "\n",
        "print(pat.match(\"pahkey@gmail.com\"))\n",
        "print(pat.match(\"kim@daum.net\"))\n",
        "print(pat.match(\"lee@myhome.co.kr\"))"
      ],
      "execution_count": 37,
      "outputs": [
        {
          "output_type": "stream",
          "text": [
            "<_sre.SRE_Match object; span=(0, 16), match='pahkey@gmail.com'>\n",
            "<_sre.SRE_Match object; span=(0, 12), match='kim@daum.net'>\n",
            "None\n"
          ],
          "name": "stdout"
        }
      ]
    },
    {
      "metadata": {
        "id": "McG0Y5qEtU03",
        "colab_type": "code",
        "colab": {}
      },
      "cell_type": "code",
      "source": [
        "def "
      ],
      "execution_count": 0,
      "outputs": []
    }
  ]
}